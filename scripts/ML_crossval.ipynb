{
 "cells": [
  {
   "cell_type": "code",
   "execution_count": null,
   "source": [
    "import pandas as pd\n",
    "import numpy as np\n",
    "import seaborn as sns\n",
    "import matplotlib.pyplot as plt\n",
    "import datetime as datetime\n",
    "import random\n",
    "import crossval #this is the file Eli wrote\n",
    "\n",
    "\n",
    "\n",
    "from sklearn.ensemble import ExtraTreesClassifier, GradientBoostingClassifier, AdaBoostClassifier, StackingClassifier, RandomForestClassifier, BaggingClassifier\n",
    "\n",
    "from sklearn.metrics import accuracy_score, confusion_matrix, precision_recall_fscore_support, balanced_accuracy_score, plot_precision_recall_curve, precision_recall_curve, precision_score, recall_score\n",
    "\n",
    "from sklearn.model_selection import RandomizedSearchCV, train_test_split\n",
    "import shap\n",
    "import lightgbm as lgb \n",
    "\n",
    "pd.set_option('max_colwidth', 80)"
   ],
   "outputs": [],
   "metadata": {}
  },
  {
   "cell_type": "code",
   "execution_count": null,
   "source": [
    "df = pd.read_csv('../../tacoma_ml_data.csv') \n",
    "df.head()"
   ],
   "outputs": [],
   "metadata": {}
  },
  {
   "cell_type": "code",
   "execution_count": null,
   "source": [
    "param_list = {\n",
    "      'n_estimators': [50],\n",
    "      'max_depth': [30]\n",
    "    } \n",
    "param = {}\n",
    "for key in param_list.keys():\n",
    "    val = random.choice(param_list[key])\n",
    "    param[key] = val"
   ],
   "outputs": [],
   "metadata": {}
  },
  {
   "cell_type": "code",
   "execution_count": null,
   "source": [
    "# Used to build a list containing dictionaries w every compination of params\n",
    "# from param list, start with a list containing one dict (src), \n",
    "# then call for each param (cross, keyword)\n",
    "def cross_params(src, cross, keyword):\n",
    "    combos = []\n",
    "    for d in src:\n",
    "        for val in cross:\n",
    "            cpy = d.copy()\n",
    "            cpy[keyword] = val\n",
    "            combos.append(cpy)\n",
    "    return combos\n",
    "\n",
    "# Uses cross_params to get list of all parameter combinations \n",
    "def get_param_combos(param_list):\n",
    "    param_combos = [{}]\n",
    "    for kw in param_list:\n",
    "        param_combos = cross_params(param_combos, param_list[kw], kw)\n",
    "    return param_combos"
   ],
   "outputs": [],
   "metadata": {}
  },
  {
   "cell_type": "code",
   "execution_count": null,
   "source": [
    "def rand_param_search(data, param_list, classifier_fn, n_val=2, threshold=0.5, print_results=True):\n",
    "    \"\"\"\n",
    "\n",
    "    \"\"\"\n",
    "    best_score = -1.0 \n",
    "    best_param = {}\n",
    "    param_combos = get_param_combos(param_list)\n",
    "    for param in param_combos:\n",
    "        print(\"using the following parameters:\")\n",
    "        print(param)\n",
    "        avgs = crossval.crossval_by_year(data, classifier_fn, param, n_val, threshold, print_results)\n",
    "        print(avgs[0])\n",
    "        print(avgs[1])\n",
    "        print(avgs[2])\n",
    "        print()\n",
    "        if avgs[0] > best_score:\n",
    "            best_param = param\n",
    "            best_score = avgs[0]\n",
    "    \n",
    "    \n",
    "    return best_param, best_score"
   ],
   "outputs": [],
   "metadata": {}
  },
  {
   "cell_type": "code",
   "execution_count": null,
   "source": [
    "best_score, best_param = rand_param_search(df, param_list, RandomForestClassifier)\n",
    "print(best_param)\n",
    "print(best_score)"
   ],
   "outputs": [],
   "metadata": {}
  }
 ],
 "metadata": {
  "orig_nbformat": 4,
  "language_info": {
   "name": "python"
  }
 },
 "nbformat": 4,
 "nbformat_minor": 2
}