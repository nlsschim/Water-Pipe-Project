{
 "cells": [
  {
   "cell_type": "code",
   "execution_count": 1,
   "metadata": {},
   "outputs": [],
   "source": [
    "import pandas as pd\n",
    "import numpy as np\n",
    "import seaborn as sns\n",
    "import matplotlib.pyplot as plt\n",
    "import datetime as datetime"
   ]
  },
  {
   "cell_type": "code",
   "execution_count": 11,
   "metadata": {},
   "outputs": [
    {
     "name": "stdout",
     "output_type": "stream",
     "text": [
      "(313739, 57)\n",
      "(6844, 94)\n"
     ]
    }
   ],
   "source": [
    "pipes_database = pd.read_csv('/Users/nelsschimek/Documents/IIDC/Water Pipe Project/Water-Pipe-Project/Water-Pipe-Project/data/Tacoma_Pipe_Data.csv')\n",
    "breaks = pd.read_csv('/Users/nelsschimek/Documents/IIDC/Water Pipe Project/Water-Pipe-Project/Water-Pipe-Project/data/Tacoma_Break_Data.csv')\n",
    "\n",
    "print(pipes_database.shape)\n",
    "print(breaks.shape)"
   ]
  },
  {
   "cell_type": "code",
   "execution_count": 12,
   "metadata": {},
   "outputs": [
    {
     "data": {
      "text/html": "<div>\n<style scoped>\n    .dataframe tbody tr th:only-of-type {\n        vertical-align: middle;\n    }\n\n    .dataframe tbody tr th {\n        vertical-align: top;\n    }\n\n    .dataframe thead th {\n        text-align: right;\n    }\n</style>\n<table border=\"1\" class=\"dataframe\">\n  <thead>\n    <tr style=\"text-align: right;\">\n      <th></th>\n      <th>OBJECTID</th>\n      <th>Join_Count</th>\n      <th>gridcode</th>\n      <th>FACILITYID</th>\n      <th>INSTALLDATE</th>\n      <th>MATERIAL</th>\n      <th>DIAMETER</th>\n      <th>OWNEDBY</th>\n      <th>PIPECLASS</th>\n      <th>PIPESTATUS</th>\n      <th>...</th>\n      <th>Join_Count_12_13_14_15_16_17_18_19_20</th>\n      <th>Join_Count_12_13_14_15_16_17_18_19_20_21</th>\n      <th>Join_Count_12_13_14_15_16_17_18_19_20_21_22</th>\n      <th>Join_Count_12_13_14_15_16_17_18_19_20_21_22_23</th>\n      <th>Join_Count_12_13_14_15_16_17_18_19_20_21_22_23_24</th>\n      <th>Join_Count_12_13_14_15_16_17_18_19_20_21_22_23_24_25</th>\n      <th>Join_Count_12_13_14_15_16_17_18_19_20_21_22_23_24_25_26</th>\n      <th>Join_Count_12_13_14_15_16_17_18_19_20_21_22_23_24_25_26_27</th>\n      <th>Join_Count_12_13_14_15_16_17_18_19_20_21_22_23_24_25_26_27_28</th>\n      <th>Join_Count_12_13_14_15_16_17_18_19_20_21_22_23_24_25_26_27_28_29</th>\n    </tr>\n  </thead>\n  <tbody>\n    <tr>\n      <th>0</th>\n      <td>1</td>\n      <td>1</td>\n      <td>25</td>\n      <td>M-0019378</td>\n      <td>1/3/1994 0:00</td>\n      <td>DIP</td>\n      <td>8</td>\n      <td>1</td>\n      <td>SP CL 52</td>\n      <td>0</td>\n      <td>...</td>\n      <td>0</td>\n      <td>0</td>\n      <td>0</td>\n      <td>0</td>\n      <td>0</td>\n      <td>0</td>\n      <td>0</td>\n      <td>0</td>\n      <td>0</td>\n      <td>0</td>\n    </tr>\n    <tr>\n      <th>1</th>\n      <td>2</td>\n      <td>1</td>\n      <td>4</td>\n      <td>M-0019378</td>\n      <td>1/3/1994 0:00</td>\n      <td>DIP</td>\n      <td>8</td>\n      <td>1</td>\n      <td>SP CL 52</td>\n      <td>0</td>\n      <td>...</td>\n      <td>0</td>\n      <td>0</td>\n      <td>0</td>\n      <td>0</td>\n      <td>0</td>\n      <td>0</td>\n      <td>0</td>\n      <td>0</td>\n      <td>0</td>\n      <td>0</td>\n    </tr>\n    <tr>\n      <th>2</th>\n      <td>3</td>\n      <td>1</td>\n      <td>3</td>\n      <td>M-0019378</td>\n      <td>1/3/1994 0:00</td>\n      <td>DIP</td>\n      <td>8</td>\n      <td>1</td>\n      <td>SP CL 52</td>\n      <td>0</td>\n      <td>...</td>\n      <td>0</td>\n      <td>0</td>\n      <td>0</td>\n      <td>0</td>\n      <td>0</td>\n      <td>0</td>\n      <td>0</td>\n      <td>0</td>\n      <td>0</td>\n      <td>0</td>\n    </tr>\n    <tr>\n      <th>3</th>\n      <td>4</td>\n      <td>1</td>\n      <td>12</td>\n      <td>M-0019378</td>\n      <td>1/3/1994 0:00</td>\n      <td>DIP</td>\n      <td>8</td>\n      <td>1</td>\n      <td>SP CL 52</td>\n      <td>0</td>\n      <td>...</td>\n      <td>0</td>\n      <td>0</td>\n      <td>0</td>\n      <td>0</td>\n      <td>0</td>\n      <td>0</td>\n      <td>0</td>\n      <td>0</td>\n      <td>0</td>\n      <td>0</td>\n    </tr>\n    <tr>\n      <th>4</th>\n      <td>5</td>\n      <td>1</td>\n      <td>10</td>\n      <td>M-0019378</td>\n      <td>1/3/1994 0:00</td>\n      <td>DIP</td>\n      <td>8</td>\n      <td>1</td>\n      <td>SP CL 52</td>\n      <td>0</td>\n      <td>...</td>\n      <td>0</td>\n      <td>0</td>\n      <td>0</td>\n      <td>0</td>\n      <td>0</td>\n      <td>0</td>\n      <td>0</td>\n      <td>0</td>\n      <td>0</td>\n      <td>0</td>\n    </tr>\n  </tbody>\n</table>\n<p>5 rows × 57 columns</p>\n</div>",
      "text/plain": "   OBJECTID  Join_Count  gridcode FACILITYID    INSTALLDATE MATERIAL  \\\n0         1           1        25  M-0019378  1/3/1994 0:00      DIP   \n1         2           1         4  M-0019378  1/3/1994 0:00      DIP   \n2         3           1         3  M-0019378  1/3/1994 0:00      DIP   \n3         4           1        12  M-0019378  1/3/1994 0:00      DIP   \n4         5           1        10  M-0019378  1/3/1994 0:00      DIP   \n\n   DIAMETER  OWNEDBY PIPECLASS  PIPESTATUS  ...  \\\n0         8        1  SP CL 52           0  ...   \n1         8        1  SP CL 52           0  ...   \n2         8        1  SP CL 52           0  ...   \n3         8        1  SP CL 52           0  ...   \n4         8        1  SP CL 52           0  ...   \n\n   Join_Count_12_13_14_15_16_17_18_19_20  \\\n0                                      0   \n1                                      0   \n2                                      0   \n3                                      0   \n4                                      0   \n\n   Join_Count_12_13_14_15_16_17_18_19_20_21  \\\n0                                         0   \n1                                         0   \n2                                         0   \n3                                         0   \n4                                         0   \n\n   Join_Count_12_13_14_15_16_17_18_19_20_21_22  \\\n0                                            0   \n1                                            0   \n2                                            0   \n3                                            0   \n4                                            0   \n\n   Join_Count_12_13_14_15_16_17_18_19_20_21_22_23  \\\n0                                               0   \n1                                               0   \n2                                               0   \n3                                               0   \n4                                               0   \n\n   Join_Count_12_13_14_15_16_17_18_19_20_21_22_23_24  \\\n0                                                  0   \n1                                                  0   \n2                                                  0   \n3                                                  0   \n4                                                  0   \n\n   Join_Count_12_13_14_15_16_17_18_19_20_21_22_23_24_25  \\\n0                                                  0      \n1                                                  0      \n2                                                  0      \n3                                                  0      \n4                                                  0      \n\n   Join_Count_12_13_14_15_16_17_18_19_20_21_22_23_24_25_26  \\\n0                                                  0         \n1                                                  0         \n2                                                  0         \n3                                                  0         \n4                                                  0         \n\n  Join_Count_12_13_14_15_16_17_18_19_20_21_22_23_24_25_26_27  \\\n0                                                  0           \n1                                                  0           \n2                                                  0           \n3                                                  0           \n4                                                  0           \n\n   Join_Count_12_13_14_15_16_17_18_19_20_21_22_23_24_25_26_27_28  \\\n0                                                  0               \n1                                                  0               \n2                                                  0               \n3                                                  0               \n4                                                  0               \n\n  Join_Count_12_13_14_15_16_17_18_19_20_21_22_23_24_25_26_27_28_29  \n0                                                  0                \n1                                                  0                \n2                                                  0                \n3                                                  0                \n4                                                  0                \n\n[5 rows x 57 columns]"
     },
     "execution_count": 12,
     "metadata": {},
     "output_type": "execute_result"
    }
   ],
   "source": [
    "pipes_database.head()"
   ]
  },
  {
   "cell_type": "code",
   "execution_count": 13,
   "metadata": {},
   "outputs": [
    {
     "data": {
      "text/html": "<div>\n<style scoped>\n    .dataframe tbody tr th:only-of-type {\n        vertical-align: middle;\n    }\n\n    .dataframe tbody tr th {\n        vertical-align: top;\n    }\n\n    .dataframe thead th {\n        text-align: right;\n    }\n</style>\n<table border=\"1\" class=\"dataframe\">\n  <thead>\n    <tr style=\"text-align: right;\">\n      <th></th>\n      <th>FID</th>\n      <th>x</th>\n      <th>MaintPlant</th>\n      <th>Notificati</th>\n      <th>Order_</th>\n      <th>Descriptio</th>\n      <th>Notif_date</th>\n      <th>Req__start</th>\n      <th>Required_E</th>\n      <th>Functional</th>\n      <th>...</th>\n      <th>Sales_Orde</th>\n      <th>AvailAftTa</th>\n      <th>AvailAftMa</th>\n      <th>AvailBefMa</th>\n      <th>Address</th>\n      <th>Latitude</th>\n      <th>Longitude</th>\n      <th>Refernece</th>\n      <th>NEAR_FID</th>\n      <th>NEAR_DIST</th>\n    </tr>\n  </thead>\n  <tbody>\n    <tr>\n      <th>0</th>\n      <td>0</td>\n      <td>W1</td>\n      <td>2000</td>\n      <td>20000214150</td>\n      <td>0</td>\n      <td>Invest Leak</td>\n      <td>10/23/2020 0:00</td>\n      <td>10/23/2020 0:00</td>\n      <td>10/24/2020 0:00</td>\n      <td>W-G-203081-SRV-288</td>\n      <td>...</td>\n      <td></td>\n      <td>0</td>\n      <td>0</td>\n      <td>0</td>\n      <td>103 E 56TH ST, TACOMA, WA, 98404</td>\n      <td>47.206568</td>\n      <td>-122.431056</td>\n      <td>10/23/2020 0:00</td>\n      <td>134343</td>\n      <td>0.000180</td>\n    </tr>\n    <tr>\n      <th>1</th>\n      <td>1</td>\n      <td>W1</td>\n      <td>2000</td>\n      <td>20000214120</td>\n      <td>20000096441</td>\n      <td>Main Break 7302 S.Alaska St.</td>\n      <td>10/22/2020 0:00</td>\n      <td>10/22/2020 0:00</td>\n      <td>10/23/2020 0:00</td>\n      <td>W-G-203115-PIP</td>\n      <td>...</td>\n      <td></td>\n      <td>0</td>\n      <td>0</td>\n      <td>0</td>\n      <td>7310 S ALASKA ST, TACOMA, WA, 98408</td>\n      <td>47.190734</td>\n      <td>-122.458089</td>\n      <td>10/22/2020 0:00</td>\n      <td>39746</td>\n      <td>0.000227</td>\n    </tr>\n    <tr>\n      <th>2</th>\n      <td>2</td>\n      <td>W1</td>\n      <td>2000</td>\n      <td>20000214110</td>\n      <td>0</td>\n      <td>S 73RD &amp; ALASKA ST - INV POSS LEAK</td>\n      <td>10/22/2020 0:00</td>\n      <td>10/22/2020 0:00</td>\n      <td>10/23/2020 0:00</td>\n      <td>W-G-203115-SVL-011</td>\n      <td>...</td>\n      <td></td>\n      <td>0</td>\n      <td>0</td>\n      <td>0</td>\n      <td>7302 S ALASKA ST, TACOMA, WA, 98408</td>\n      <td>47.190935</td>\n      <td>-122.458125</td>\n      <td>10/22/2020 0:00</td>\n      <td>39757</td>\n      <td>0.000207</td>\n    </tr>\n    <tr>\n      <th>3</th>\n      <td>3</td>\n      <td>W1</td>\n      <td>2000</td>\n      <td>20000214001</td>\n      <td>0</td>\n      <td>7309 46th St Ct W - Invest poss leak</td>\n      <td>10/20/2020 0:00</td>\n      <td>10/20/2020 0:00</td>\n      <td>10/21/2020 0:00</td>\n      <td>W-G-202060-SRV-059</td>\n      <td>...</td>\n      <td></td>\n      <td>0</td>\n      <td>0</td>\n      <td>0</td>\n      <td>7309 46TH STREET CT W, UNIVERSITY PLACE, WA, 9...</td>\n      <td>47.215108</td>\n      <td>-122.535125</td>\n      <td>10/20/2020 0:00</td>\n      <td>232094</td>\n      <td>0.000237</td>\n    </tr>\n    <tr>\n      <th>4</th>\n      <td>4</td>\n      <td>W1</td>\n      <td>2000</td>\n      <td>20000213618</td>\n      <td>0</td>\n      <td>S 64TH &amp; PACIFIC - INV LEAK</td>\n      <td>10/19/2020 0:00</td>\n      <td>10/19/2020 0:00</td>\n      <td>10/20/2020 0:00</td>\n      <td>W-L-P064TM-000-080</td>\n      <td>...</td>\n      <td></td>\n      <td>0</td>\n      <td>0</td>\n      <td>0</td>\n      <td>6400 PACIFIC AVE S, TACOMA, WA, 98408</td>\n      <td>47.177254</td>\n      <td>-122.434079</td>\n      <td>10/19/2020 0:00</td>\n      <td>47360</td>\n      <td>0.000052</td>\n    </tr>\n  </tbody>\n</table>\n<p>5 rows × 94 columns</p>\n</div>",
      "text/plain": "   FID   x  MaintPlant   Notificati       Order_  \\\n0    0  W1        2000  20000214150            0   \n1    1  W1        2000  20000214120  20000096441   \n2    2  W1        2000  20000214110            0   \n3    3  W1        2000  20000214001            0   \n4    4  W1        2000  20000213618            0   \n\n                             Descriptio       Notif_date       Req__start  \\\n0                           Invest Leak  10/23/2020 0:00  10/23/2020 0:00   \n1          Main Break 7302 S.Alaska St.  10/22/2020 0:00  10/22/2020 0:00   \n2    S 73RD & ALASKA ST - INV POSS LEAK  10/22/2020 0:00  10/22/2020 0:00   \n3  7309 46th St Ct W - Invest poss leak  10/20/2020 0:00  10/20/2020 0:00   \n4           S 64TH & PACIFIC - INV LEAK  10/19/2020 0:00  10/19/2020 0:00   \n\n        Required_E          Functional  ... Sales_Orde  AvailAftTa  \\\n0  10/24/2020 0:00  W-G-203081-SRV-288  ...                      0   \n1  10/23/2020 0:00      W-G-203115-PIP  ...                      0   \n2  10/23/2020 0:00  W-G-203115-SVL-011  ...                      0   \n3  10/21/2020 0:00  W-G-202060-SRV-059  ...                      0   \n4  10/20/2020 0:00  W-L-P064TM-000-080  ...                      0   \n\n   AvailAftMa AvailBefMa                                            Address  \\\n0           0          0                   103 E 56TH ST, TACOMA, WA, 98404   \n1           0          0                7310 S ALASKA ST, TACOMA, WA, 98408   \n2           0          0                7302 S ALASKA ST, TACOMA, WA, 98408   \n3           0          0  7309 46TH STREET CT W, UNIVERSITY PLACE, WA, 9...   \n4           0          0              6400 PACIFIC AVE S, TACOMA, WA, 98408   \n\n    Latitude   Longitude        Refernece NEAR_FID NEAR_DIST  \n0  47.206568 -122.431056  10/23/2020 0:00   134343  0.000180  \n1  47.190734 -122.458089  10/22/2020 0:00    39746  0.000227  \n2  47.190935 -122.458125  10/22/2020 0:00    39757  0.000207  \n3  47.215108 -122.535125  10/20/2020 0:00   232094  0.000237  \n4  47.177254 -122.434079  10/19/2020 0:00    47360  0.000052  \n\n[5 rows x 94 columns]"
     },
     "execution_count": 13,
     "metadata": {},
     "output_type": "execute_result"
    }
   ],
   "source": [
    "breaks.head()"
   ]
  },
  {
   "cell_type": "code",
   "execution_count": 15,
   "metadata": {},
   "outputs": [],
   "source": [
    "pipes_database['Break_Yr'] = np.nan\n",
    "pipes_database['Target'] = 0\n"
   ]
  },
  {
   "cell_type": "code",
   "execution_count": 16,
   "metadata": {},
   "outputs": [
    {
     "data": {
      "text/html": "<div>\n<style scoped>\n    .dataframe tbody tr th:only-of-type {\n        vertical-align: middle;\n    }\n\n    .dataframe tbody tr th {\n        vertical-align: top;\n    }\n\n    .dataframe thead th {\n        text-align: right;\n    }\n</style>\n<table border=\"1\" class=\"dataframe\">\n  <thead>\n    <tr style=\"text-align: right;\">\n      <th></th>\n      <th>OBJECTID</th>\n      <th>Join_Count</th>\n      <th>gridcode</th>\n      <th>FACILITYID</th>\n      <th>INSTALLDATE</th>\n      <th>MATERIAL</th>\n      <th>DIAMETER</th>\n      <th>OWNEDBY</th>\n      <th>PIPECLASS</th>\n      <th>PIPESTATUS</th>\n      <th>...</th>\n      <th>Join_Count_12_13_14_15_16_17_18_19_20_21_22</th>\n      <th>Join_Count_12_13_14_15_16_17_18_19_20_21_22_23</th>\n      <th>Join_Count_12_13_14_15_16_17_18_19_20_21_22_23_24</th>\n      <th>Join_Count_12_13_14_15_16_17_18_19_20_21_22_23_24_25</th>\n      <th>Join_Count_12_13_14_15_16_17_18_19_20_21_22_23_24_25_26</th>\n      <th>Join_Count_12_13_14_15_16_17_18_19_20_21_22_23_24_25_26_27</th>\n      <th>Join_Count_12_13_14_15_16_17_18_19_20_21_22_23_24_25_26_27_28</th>\n      <th>Join_Count_12_13_14_15_16_17_18_19_20_21_22_23_24_25_26_27_28_29</th>\n      <th>Break_Yr</th>\n      <th>Target</th>\n    </tr>\n  </thead>\n  <tbody>\n    <tr>\n      <th>0</th>\n      <td>1</td>\n      <td>1</td>\n      <td>25</td>\n      <td>M-0019378</td>\n      <td>1/3/1994 0:00</td>\n      <td>DIP</td>\n      <td>8</td>\n      <td>1</td>\n      <td>SP CL 52</td>\n      <td>0</td>\n      <td>...</td>\n      <td>0</td>\n      <td>0</td>\n      <td>0</td>\n      <td>0</td>\n      <td>0</td>\n      <td>0</td>\n      <td>0</td>\n      <td>0</td>\n      <td>NaN</td>\n      <td>0</td>\n    </tr>\n    <tr>\n      <th>1</th>\n      <td>2</td>\n      <td>1</td>\n      <td>4</td>\n      <td>M-0019378</td>\n      <td>1/3/1994 0:00</td>\n      <td>DIP</td>\n      <td>8</td>\n      <td>1</td>\n      <td>SP CL 52</td>\n      <td>0</td>\n      <td>...</td>\n      <td>0</td>\n      <td>0</td>\n      <td>0</td>\n      <td>0</td>\n      <td>0</td>\n      <td>0</td>\n      <td>0</td>\n      <td>0</td>\n      <td>NaN</td>\n      <td>0</td>\n    </tr>\n    <tr>\n      <th>2</th>\n      <td>3</td>\n      <td>1</td>\n      <td>3</td>\n      <td>M-0019378</td>\n      <td>1/3/1994 0:00</td>\n      <td>DIP</td>\n      <td>8</td>\n      <td>1</td>\n      <td>SP CL 52</td>\n      <td>0</td>\n      <td>...</td>\n      <td>0</td>\n      <td>0</td>\n      <td>0</td>\n      <td>0</td>\n      <td>0</td>\n      <td>0</td>\n      <td>0</td>\n      <td>0</td>\n      <td>NaN</td>\n      <td>0</td>\n    </tr>\n    <tr>\n      <th>3</th>\n      <td>4</td>\n      <td>1</td>\n      <td>12</td>\n      <td>M-0019378</td>\n      <td>1/3/1994 0:00</td>\n      <td>DIP</td>\n      <td>8</td>\n      <td>1</td>\n      <td>SP CL 52</td>\n      <td>0</td>\n      <td>...</td>\n      <td>0</td>\n      <td>0</td>\n      <td>0</td>\n      <td>0</td>\n      <td>0</td>\n      <td>0</td>\n      <td>0</td>\n      <td>0</td>\n      <td>NaN</td>\n      <td>0</td>\n    </tr>\n    <tr>\n      <th>4</th>\n      <td>5</td>\n      <td>1</td>\n      <td>10</td>\n      <td>M-0019378</td>\n      <td>1/3/1994 0:00</td>\n      <td>DIP</td>\n      <td>8</td>\n      <td>1</td>\n      <td>SP CL 52</td>\n      <td>0</td>\n      <td>...</td>\n      <td>0</td>\n      <td>0</td>\n      <td>0</td>\n      <td>0</td>\n      <td>0</td>\n      <td>0</td>\n      <td>0</td>\n      <td>0</td>\n      <td>NaN</td>\n      <td>0</td>\n    </tr>\n  </tbody>\n</table>\n<p>5 rows × 59 columns</p>\n</div>",
      "text/plain": "   OBJECTID  Join_Count  gridcode FACILITYID    INSTALLDATE MATERIAL  \\\n0         1           1        25  M-0019378  1/3/1994 0:00      DIP   \n1         2           1         4  M-0019378  1/3/1994 0:00      DIP   \n2         3           1         3  M-0019378  1/3/1994 0:00      DIP   \n3         4           1        12  M-0019378  1/3/1994 0:00      DIP   \n4         5           1        10  M-0019378  1/3/1994 0:00      DIP   \n\n   DIAMETER  OWNEDBY PIPECLASS  PIPESTATUS  ...  \\\n0         8        1  SP CL 52           0  ...   \n1         8        1  SP CL 52           0  ...   \n2         8        1  SP CL 52           0  ...   \n3         8        1  SP CL 52           0  ...   \n4         8        1  SP CL 52           0  ...   \n\n   Join_Count_12_13_14_15_16_17_18_19_20_21_22  \\\n0                                            0   \n1                                            0   \n2                                            0   \n3                                            0   \n4                                            0   \n\n   Join_Count_12_13_14_15_16_17_18_19_20_21_22_23  \\\n0                                               0   \n1                                               0   \n2                                               0   \n3                                               0   \n4                                               0   \n\n   Join_Count_12_13_14_15_16_17_18_19_20_21_22_23_24  \\\n0                                                  0   \n1                                                  0   \n2                                                  0   \n3                                                  0   \n4                                                  0   \n\n   Join_Count_12_13_14_15_16_17_18_19_20_21_22_23_24_25  \\\n0                                                  0      \n1                                                  0      \n2                                                  0      \n3                                                  0      \n4                                                  0      \n\n   Join_Count_12_13_14_15_16_17_18_19_20_21_22_23_24_25_26  \\\n0                                                  0         \n1                                                  0         \n2                                                  0         \n3                                                  0         \n4                                                  0         \n\n   Join_Count_12_13_14_15_16_17_18_19_20_21_22_23_24_25_26_27  \\\n0                                                  0            \n1                                                  0            \n2                                                  0            \n3                                                  0            \n4                                                  0            \n\n   Join_Count_12_13_14_15_16_17_18_19_20_21_22_23_24_25_26_27_28  \\\n0                                                  0               \n1                                                  0               \n2                                                  0               \n3                                                  0               \n4                                                  0               \n\n  Join_Count_12_13_14_15_16_17_18_19_20_21_22_23_24_25_26_27_28_29  Break_Yr  \\\n0                                                  0                     NaN   \n1                                                  0                     NaN   \n2                                                  0                     NaN   \n3                                                  0                     NaN   \n4                                                  0                     NaN   \n\n  Target  \n0      0  \n1      0  \n2      0  \n3      0  \n4      0  \n\n[5 rows x 59 columns]"
     },
     "execution_count": 16,
     "metadata": {},
     "output_type": "execute_result"
    }
   ],
   "source": [
    "pipes_database.head()"
   ]
  },
  {
   "cell_type": "code",
   "execution_count": 17,
   "metadata": {
    "tags": []
   },
   "outputs": [
    {
     "name": "stdout",
     "output_type": "stream",
     "text": [
      "(313739, 59)\n"
     ]
    }
   ],
   "source": [
    "a_list = []\n",
    "\n",
    "for index, row in breaks.iterrows():\n",
    "    #print(row)\n",
    "    pipe_id = row['NEAR_FID'] # Location column\n",
    "    if pipe_id != -1:\n",
    "        real_pipe = pipes_database[pipes_database['OBJECTID'] == pipe_id]\n",
    "        new_row = real_pipe.copy()\n",
    "        new_row['Target'] = 1\n",
    "        new_row['Break_Yr'] = row['Notif_date']\n",
    "        #new_row['Width'] = row['Size'] # column name might be specific to csv columns\n",
    "        #new_row['TARGET_FID'] = -1\n",
    "        a_list.append(new_row)\n",
    "    \n",
    "        \n",
    "    # street_standard = (''.join([c for c in street if c.isalpha()])).lower()\n",
    "    # for index, row in pipes_database.i:\n",
    "    #     all_street = all_row['TARGET_FID'] # FULL_STRNA column\n",
    "    #     # if all_street_standard in street_standard:\n",
    "    #     #     possible_pipes = break_refs.setdefault(row, [])\n",
    "    #     #     possible_pipes.append(all_row[1])\n",
    "new_data = pipes_database.append(pd.concat(a_list))\n",
    "\n",
    "print(pipes_database.shape)"
   ]
  },
  {
   "cell_type": "code",
   "execution_count": 118,
   "metadata": {},
   "outputs": [
    {
     "data": {
      "text/plain": [
       "0                       NaN\n",
       "1                       NaN\n",
       "2                       NaN\n",
       "3                       NaN\n",
       "4                       NaN\n",
       "                ...        \n",
       "56365    8/13/2013 15:02:28\n",
       "40139    7/17/2013 17:15:48\n",
       "62255     8/21/2013 2:25:24\n",
       "54147    8/31/2013 11:06:25\n",
       "30715     9/4/2013 12:58:17\n",
       "Name: DATE, Length: 71320, dtype: object"
      ]
     },
     "execution_count": 118,
     "metadata": {},
     "output_type": "execute_result"
    }
   ],
   "source": []
  },
  {
   "cell_type": "code",
   "execution_count": 70,
   "metadata": {
    "tags": [
     "outputPrepend"
    ]
   },
   "outputs": [
    {
     "name": "stdout",
     "output_type": "stream",
     "text": [
      "nan, nan, nan, nan, nan, nan, nan, nan, nan, nan, nan, nan, nan, nan, nan, nan, nan, nan, nan, nan, nan, nan, nan, nan, nan, nan, nan, nan, nan, nan, nan, nan, nan, nan, nan, nan, nan, nan, nan, nan, nan, nan, nan, nan, nan, nan, nan, nan, nan, nan, nan, nan, nan, nan, nan, nan, nan, nan, nan, nan, nan, nan, nan, nan, nan, nan, nan, nan, nan, nan, nan, nan, nan, nan, nan, nan, nan, nan, nan, nan, nan, nan, nan, nan, nan, nan, nan, nan, nan, nan, nan, nan, nan, nan, nan, nan, nan, nan, nan, nan, nan, nan, nan, nan, nan, nan, nan, nan, nan, nan, nan, nan, nan, nan, nan, nan, nan, nan, nan, nan, nan, nan, nan, nan, nan, nan, nan, nan, nan, nan, nan, nan, nan, nan, nan, nan, nan, nan, nan, nan, nan, nan, nan, nan, nan, nan, nan, nan, nan, nan, nan, nan, nan, nan, nan, nan, nan, nan, nan, nan, nan, nan, nan, nan, nan, nan, nan, nan, nan, nan, nan, nan, nan, nan, nan, nan, nan, nan, nan, nan, nan, nan, nan, nan, nan, nan, nan, nan, nan, nan, nan, nan, nan, nan, nan, nan, nan, nan, nan, nan, nan, nan, nan, nan, nan, nan, nan, nan, nan, nan, nan, nan, nan, nan, nan, nan, nan, nan, nan, nan, nan, nan, nan, nan, nan, nan, nan, nan, nan, nan, nan, nan, nan, nan, nan, nan, nan, nan, nan, nan, nan, nan, nan, nan, nan, nan, nan, nan, nan, nan, nan, nan, nan, nan, nan, nan, nan, nan, nan, nan, nan, nan, nan, nan, nan, nan, nan, nan, nan, nan, nan, nan, nan, nan, nan, nan, nan, nan, nan, nan, nan, nan, nan, nan, nan, nan, nan, nan, nan, nan, nan, nan, nan, nan, nan, nan, nan, nan, nan, nan, nan, nan, nan, nan, nan, nan, nan, nan, nan, nan, nan, nan, nan, nan, nan, nan, nan, nan, nan, nan, nan, nan, nan, nan, nan, nan, nan, nan, nan, nan, nan, nan, nan, nan, nan, nan, nan, nan, nan, nan, nan, nan, nan, nan, nan, nan, nan, nan, nan, nan, nan, nan, nan, nan, nan, nan, nan, nan, nan, nan, nan, nan, nan, nan, nan, nan, nan, nan, nan, nan, nan, nan, nan, nan, nan, nan, nan, nan, nan, nan, nan, nan, nan, nan, nan, nan, nan, nan, nan, nan, nan, nan, nan, nan, nan, nan, nan, nan, nan, nan, nan, nan, nan, nan, nan, nan, nan, nan, nan, nan, nan, nan, nan, nan, nan, nan, nan, nan, nan, nan, nan, nan, nan, nan, nan, nan, nan, nan, nan, nan, nan, nan, nan, nan, nan, nan, nan, nan, nan, nan, nan, nan, nan, nan, nan, nan, nan, nan, nan, nan, nan, nan, nan, nan, nan, nan, nan, nan, nan, nan, nan, nan, nan, nan, nan, nan, nan, nan, nan, nan, nan, nan, nan, nan, nan, nan, nan, nan, nan, nan, nan, nan, nan, nan, nan, nan, nan, nan, nan, nan, nan, nan, nan, nan, nan, nan, nan, nan, nan, nan, nan, nan, nan, nan, nan, nan, nan, nan, nan, nan, nan, nan, nan, nan, nan, nan, nan, nan, nan, nan, nan, nan, nan, nan, nan, nan, nan, nan, nan, nan, nan, nan, nan, nan, nan, nan, nan, nan, nan, nan, nan, nan, nan, nan, nan, nan, nan, nan, nan, nan, nan, nan, nan, nan, nan, nan, nan, nan, nan, nan, nan, nan, nan, nan, nan, nan, nan, nan, nan, nan, nan, nan, nan, nan, nan, nan, nan, nan, nan, nan, nan, nan, nan, nan, nan, nan, nan, nan, nan, nan, nan, nan, nan, nan, nan, nan, nan, nan, nan, nan, nan, nan, nan, nan, nan, nan, nan, nan, nan, nan, nan, nan, nan, nan, nan, nan, nan, nan, nan, nan, nan, nan, nan, nan, nan, nan, nan, nan, nan, nan, nan, nan, nan, nan, nan, nan, nan, nan, nan, nan, nan, nan, nan, nan, nan, nan, nan, nan, nan, nan, nan, nan, nan, nan, nan, nan, nan, nan, nan, nan, nan, nan, nan, nan, nan, nan, nan, nan, nan, nan, nan, nan, nan, nan, nan, nan, nan, nan, nan, nan, nan, nan, nan, nan, nan, nan, nan, nan, nan, nan, nan, nan, nan, nan, nan, nan, nan, nan, nan, nan, nan, nan, nan, nan, nan, nan, nan, nan, nan, nan, nan, nan, nan, nan, nan, nan, nan, nan, nan, nan, nan, nan, nan, nan, nan, nan, nan, nan, nan, nan, nan, nan, nan, nan, nan, nan, nan, nan, nan, nan, nan, nan, nan, nan, nan, nan, nan, nan, nan, nan, nan, nan, nan, nan, nan, nan, nan, nan, nan, nan, nan, nan, nan, nan, nan, nan, nan, nan, nan, nan, nan, nan, nan, nan, nan, nan, nan, nan, nan, nan, nan, nan, nan, nan, nan, nan, nan, nan, nan, nan, nan, nan, nan, nan, nan, nan, nan, nan, nan, nan, nan, nan, nan, nan, nan, nan, nan, nan, nan, nan, nan, nan, nan, nan, nan, nan, nan, nan, nan, nan, nan, nan, nan, nan, nan, nan, nan, nan, nan, nan, nan, nan, nan, nan, nan, nan, nan, nan, nan, nan, nan, nan, nan, nan, nan, nan, nan, nan, nan, nan, nan, nan, nan, nan, nan, nan, nan, nan, nan, nan, nan, nan, nan, nan, nan, nan, nan, nan, nan, nan, nan, nan, nan, nan, nan, nan, nan, nan, nan, nan, nan, nan, nan, nan, nan, nan, nan, nan, nan, nan, nan, nan, nan, nan, nan, nan, nan, nan, nan, nan, nan, nan, nan, nan, nan, nan, nan, nan, nan, nan, nan, nan, nan, nan, nan, nan, nan, nan, nan, nan, nan, nan, nan, nan, nan, nan, nan, nan, nan, nan, nan, nan, nan, nan, nan, nan, nan, nan, nan, nan, nan, nan, nan, nan, nan, nan, nan, nan, nan, nan, nan, nan, nan, nan, nan, nan, nan, nan, nan, nan, nan, nan, nan, nan, nan, nan, nan, nan, nan, nan, nan, nan, nan, nan, nan, nan, nan, nan, nan, nan, nan, nan, nan, nan, nan, nan, nan, nan, nan, nan, nan, nan, nan, nan, nan, nan, nan, nan, nan, nan, nan, nan, nan, nan, nan, nan, nan, nan, nan, nan, nan, nan, nan, nan, nan, nan, nan, nan, nan, nan, nan, nan, nan, nan, nan, nan, nan, nan, nan, nan, nan, nan, nan, nan, nan, nan, nan, nan, nan, nan, nan, nan, nan, nan, nan, nan, nan, nan, nan, nan, nan, nan, nan, nan, nan, nan, nan, nan, nan, nan, nan, nan, nan, nan, nan, nan, nan, nan, nan, nan, nan, nan, nan, nan, nan, nan, nan, nan, nan, nan, nan, nan, nan, nan, nan, nan, nan, nan, nan, nan, nan, nan, nan, nan, nan, nan, nan, nan, nan, nan, nan, nan, nan, nan, nan, nan, nan, nan, nan, nan, nan, nan, nan, nan, nan, nan, nan, nan, nan, nan, nan, nan, nan, nan, nan, nan, nan, nan, nan, nan, nan, nan, nan, nan, nan, nan, nan, nan, nan, nan, nan, nan, nan, nan, nan, nan, nan, nan, nan, nan, nan, nan, nan, nan, nan, nan, nan, nan, nan, nan, nan, nan, nan, nan, nan, nan, nan, nan, nan, nan, nan, nan, nan, nan, nan, nan, nan, nan, nan, nan, nan, nan, nan, nan, nan, nan, nan, nan, nan, nan, nan, nan, nan, nan, nan, nan, nan, nan, nan, nan, nan, nan, nan, nan, nan, nan, nan, nan, nan, nan, nan, nan, nan, nan, nan, nan, nan, nan, nan, nan, nan, nan, nan, nan, nan, nan, nan, nan, nan, nan, nan, nan, nan, nan, nan, nan, nan, nan, nan, nan, nan, nan, nan, nan, nan, nan, nan, nan, nan, nan, nan, nan, nan, nan, nan, nan, nan, nan, nan, nan, nan, nan, nan, nan, nan, nan, nan, nan, nan, nan, nan, nan, nan, nan, nan, nan, nan, nan, nan, nan, nan, nan, nan, nan, nan, nan, nan, nan, nan, nan, nan, nan, nan, nan, nan, nan, nan, nan, nan, nan, nan, nan, nan, nan, nan, nan, nan, nan, nan, nan, nan, nan, nan, nan, nan, nan, nan, nan, nan, nan, nan, nan, nan, nan, nan, nan, nan, nan, nan, nan, nan, nan, nan, nan, nan, nan, nan, nan, nan, nan, nan, nan, nan, nan, nan, nan, nan, nan, nan, nan, nan, nan, nan, nan, nan, nan, nan, nan, nan, nan, nan, nan, nan, nan, nan, nan, nan, nan, nan, nan, nan, nan, nan, nan, nan, nan, nan, nan, nan, nan, nan, nan, nan, nan, nan, nan, nan, nan, nan, nan, nan, nan, nan, nan, nan, nan, nan, nan, nan, nan, nan, nan, nan, nan, nan, nan, nan, nan, nan, nan, nan, nan, nan, nan, nan, nan, nan, nan, nan, nan, nan, nan, nan, nan, nan, nan, nan, nan, nan, nan, nan, nan, nan, nan, nan, nan, nan, nan, nan, nan, nan, nan, nan, nan, nan, nan, nan, nan, nan, nan, nan, nan, nan, nan, nan, nan, nan, nan, nan, nan, nan, nan, nan, nan, nan, nan, nan, nan, nan, nan, nan, nan, nan, nan, nan, nan, nan, nan, nan, nan, nan, nan, nan, nan, nan, nan, nan, nan, nan, nan, nan, nan, nan, nan, nan, nan, nan, nan, nan, nan, nan, nan, nan, nan, nan, nan, nan, nan, nan, nan, nan, nan, nan, nan, nan, nan, nan, nan, nan, nan, nan, nan, nan, nan, nan, nan, nan, nan, nan, nan, nan, nan, nan, nan, nan, nan, nan, nan, nan, nan, nan, nan, nan, nan, nan, nan, nan, nan, nan, nan, nan, nan, nan, nan, nan, nan, nan, nan, nan, nan, nan, nan, nan, nan, nan, nan, nan, nan, nan, nan, nan, nan, nan, nan, nan, nan, nan, nan, nan, nan, nan, nan, nan, nan, nan, nan, nan, nan, nan, nan, nan, nan, nan, nan, nan, nan, nan, nan, nan, nan, nan, nan, nan, nan, nan, nan, nan, nan, nan, nan, nan, nan, nan, nan, nan, nan, nan, nan, nan, nan, nan, nan, nan, nan, nan, nan, nan, nan, nan, nan, nan, nan, nan, nan, nan, nan, nan, nan, nan, nan, nan, nan, nan, nan, nan, nan, nan, nan, nan, nan, nan, nan, nan, nan, nan, nan, nan, nan, nan, nan, nan, nan, nan, nan, nan, nan, nan, nan, nan, nan, nan, nan, nan, nan, nan, nan, nan, nan, nan, nan, nan, nan, nan, nan, nan, nan, nan, nan, nan, nan, nan, nan, nan, nan, nan, nan, nan, nan, nan, nan, nan, nan, nan, nan, nan, nan, nan, nan, nan, nan, nan, nan, nan, nan, nan, nan, nan, nan, nan, nan, nan, nan, nan, nan, nan, nan, nan, nan, nan, nan, nan, nan, nan, nan, nan, nan, nan, nan, nan, nan, nan, nan, nan, nan, nan, nan, nan, nan, nan, nan, nan, nan, nan, nan, nan, nan, nan, nan, nan, nan, nan, nan, nan, nan, nan, nan, nan, nan, nan, nan, nan, nan, nan, nan, nan, nan, nan, nan, nan, nan, nan, nan, nan, nan, nan, nan, nan, nan, nan, nan, nan, nan, nan, nan, nan, nan, nan, nan, nan, nan, nan, nan, nan, nan, nan, nan, nan, nan, nan, nan, nan, nan, nan, nan, nan, nan, nan, nan, nan, nan, nan, nan, nan, nan, nan, nan, nan, nan, nan, nan, nan, nan, nan, nan, nan, nan, nan, nan, nan, nan, nan, nan, nan, nan, nan, nan, nan, nan, nan, nan, nan, nan, nan, nan, nan, nan, nan, nan, nan, nan, nan, nan, nan, nan, nan, nan, nan, nan, nan, nan, nan, nan, nan, nan, nan, nan, nan, nan, nan, nan, nan, nan, nan, nan, nan, nan, nan, nan, nan, nan, nan, nan, nan, nan, nan, nan, nan, nan, nan, nan, nan, nan, nan, nan, nan, nan, nan, nan, nan, nan, nan, nan, nan, nan, nan, nan, nan, nan, nan, nan, nan, nan, nan, nan, nan, nan, nan, nan, nan, nan, nan, nan, nan, nan, nan, nan, nan, nan, nan, nan, nan, nan, nan, nan, nan, nan, nan, nan, nan, nan, nan, nan, nan, nan, nan, nan, nan, nan, nan, nan, nan, nan, nan, nan, nan, nan, nan, nan, nan, nan, nan, nan, nan, nan, nan, nan, nan, nan, nan, nan, nan, nan, nan, nan, nan, nan, nan, nan, nan, nan, nan, nan, nan, nan, nan, nan, nan, nan, nan, nan, nan, nan, nan, nan, nan, nan, nan, nan, nan, nan, nan, nan, nan, nan, nan, nan, nan, nan, nan, nan, nan, nan, nan, nan, nan, nan, nan, nan, nan, nan, nan, nan, nan, nan, nan, nan, nan, nan, nan, nan, nan, nan, nan, nan, nan, nan, nan, nan, nan, nan, nan, nan, nan, nan, nan, nan, nan, nan, nan, nan, nan, nan, nan, nan, nan, nan, nan, nan, nan, nan, nan, nan, nan, nan, nan, nan, nan, nan, nan, nan, nan, nan, nan, nan, nan, nan, nan, nan, nan, nan, nan, nan, nan, nan, nan, nan, nan, nan, nan, nan, nan, nan, nan, nan, nan, nan, nan, nan, nan, nan, nan, nan, nan, nan, nan, nan, nan, nan, nan, nan, nan, nan, nan, nan, nan, nan, nan, nan, nan, nan, nan, nan, nan, nan, nan, nan, nan, nan, nan, nan, nan, nan, nan, nan, nan, nan, nan, nan, nan, nan, nan, nan, nan, nan, nan, nan, nan, nan, nan, nan, nan, nan, nan, nan, nan, nan, nan, nan, nan, nan, nan, nan, nan, nan, nan, nan, nan, nan, nan, nan, nan, nan, nan, nan, nan, nan, nan, nan, nan, nan, nan, nan, nan, nan, nan, nan, nan, nan, nan, nan, nan, nan, nan, nan, nan, nan, nan, nan, nan, nan, nan, nan, nan, nan, nan, nan, nan, nan, nan, nan, nan, nan, nan, nan, nan, nan, nan, nan, nan, nan, nan, nan, nan, nan, nan, nan, nan, nan, nan, nan, nan, nan, nan, nan, nan, nan, nan, nan, nan, nan, nan, nan, nan, nan, nan, nan, nan, nan, nan, nan, nan, nan, nan, nan, nan, nan, nan, nan, nan, nan, nan, nan, nan, nan, nan, nan, nan, nan, nan, nan, nan, nan, nan, nan, nan, nan, nan, nan, nan, nan, nan, nan, nan, nan, nan, nan, nan, nan, nan, nan, nan, nan, nan, nan, nan, nan, nan, nan, nan, nan, nan, nan, nan, nan, nan, nan, nan, nan, nan, nan, nan, nan, nan, nan, nan, nan, nan, nan, nan, nan, nan, nan, nan, nan, nan, nan, nan, nan, nan, nan, nan, nan, nan, nan, nan, nan, nan, nan, nan, nan, nan, nan, nan, nan, nan, nan, nan, nan, nan, nan, nan, nan, nan, nan, nan, nan, nan, nan, nan, nan, nan, nan, nan, nan, nan, nan, nan, nan, nan, nan, nan, nan, nan, nan, nan, nan, nan, nan, nan, nan, nan, nan, nan, nan, nan, nan, nan, nan, nan, nan, nan, nan, nan, nan, nan, nan, nan, nan, nan, nan, nan, nan, nan, nan, nan, nan, nan, nan, nan, nan, nan, nan, nan, nan, nan, nan, nan, nan, nan, nan, nan, nan, nan, nan, nan, nan, nan, nan, nan, nan, nan, nan, nan, nan, nan, nan, nan, nan, nan, nan, nan, nan, nan, nan, nan, nan, nan, nan, nan, nan, nan, nan, nan, nan, nan, nan, nan, nan, nan, nan, nan, nan, nan, nan, nan, nan, nan, nan, nan, nan, nan, nan, nan, nan, nan, nan, nan, nan, nan, nan, nan, nan, nan, nan, nan, nan, nan, nan, nan, nan, nan, nan, nan, nan, nan, nan, nan, nan, nan, nan, nan, nan, nan, nan, nan, nan, nan, nan, nan, nan, nan, nan, nan, nan, nan, nan, nan, nan, nan, nan, nan, nan, nan, nan, nan, nan, nan, nan, nan, nan, nan, nan, nan, nan, nan, nan, nan, nan, nan, nan, nan, nan, nan, nan, nan, nan, nan, nan, nan, nan, nan, nan, nan, nan, nan, nan, nan, nan, nan, nan, nan, nan, nan, nan, nan, nan, nan, nan, nan, nan, nan, nan, nan, nan, nan, nan, nan, nan, nan, nan, nan, nan, nan, nan, nan, nan, nan, nan, nan, nan, nan, nan, nan, nan, nan, nan, nan, nan, nan, nan, nan, nan, nan, nan, nan, nan, nan, nan, nan, nan, nan, nan, nan, nan, nan, nan, nan, nan, nan, nan, nan, nan, nan, nan, nan, nan, nan, nan, nan, nan, nan, nan, nan, nan, nan, nan, nan, nan, nan, nan, nan, nan, nan, nan, nan, nan, nan, nan, nan, nan, nan, nan, nan, nan, nan, nan, nan, nan, nan, nan, nan, nan, nan, nan, nan, nan, nan, nan, nan, nan, nan, nan, nan, nan, nan, nan, nan, nan, nan, nan, nan, nan, nan, nan, nan, nan, nan, nan, nan, nan, nan, nan, nan, nan, nan, nan, nan, nan, nan, nan, nan, nan, nan, nan, nan, nan, nan, nan, nan, nan, nan, nan, nan, nan, nan, nan, nan, nan, nan, nan, nan, nan, nan, nan, nan, nan, nan, nan, nan, nan, nan, nan, nan, nan, nan, nan, nan, nan, nan, nan, nan, nan, nan, nan, nan, nan, nan, nan, nan, nan, nan, nan, nan, nan, nan, nan, nan, nan, nan, nan, nan, nan, nan, nan, nan, nan, nan, nan, nan, nan, nan, nan, nan, nan, nan, nan, nan, nan, nan, nan, nan, nan, nan, nan, nan, nan, nan, nan, nan, nan, nan, nan, nan, nan, nan, nan, nan, nan, nan, nan, nan, nan, nan, nan, nan, nan, nan, nan, nan, nan, nan, nan, nan, nan, nan, nan, nan, nan, nan, nan, nan, nan, nan, nan, nan, nan, nan, nan, nan, nan, nan, nan, nan, nan, nan, nan, nan, nan, nan, nan, nan, nan, nan, nan, nan, nan, nan, nan, nan, nan, nan, nan, nan, nan, nan, nan, nan, nan, nan, nan, nan, nan, nan, nan, nan, nan, nan, nan, nan, nan, nan, nan, nan, nan, nan, nan, nan, nan, nan, nan, nan, nan, nan, nan, nan, nan, nan, nan, nan, nan, nan, nan, nan, nan, nan, nan, nan, nan, nan, nan, nan, nan, nan, nan, nan, nan, nan, nan, nan, nan, nan, nan, nan, nan, nan, nan, nan, nan, nan, nan, nan, nan, nan, nan, nan, nan, nan, nan, nan, nan, nan, nan, nan, nan, nan, nan, nan, nan, nan, nan, nan, nan, nan, nan, nan, nan, nan, nan, nan, nan, nan, nan, nan, nan, nan, nan, nan, nan, nan, nan, nan, nan, nan, nan, nan, nan, nan, nan, nan, nan, nan, nan, nan, nan, nan, nan, nan, nan, nan, nan, nan, nan, nan, nan, nan, nan, nan, nan, nan, nan, nan, nan, nan, nan, nan, nan, nan, nan, nan, nan, nan, nan, nan, nan, nan, nan, nan, nan, nan, nan, nan, nan, nan, nan, nan, nan, nan, nan, nan, nan, nan, nan, nan, nan, nan, nan, nan, nan, nan, nan, nan, nan, nan, nan, nan, nan, nan, nan, nan, nan, nan, nan, nan, nan, nan, nan, nan, nan, nan, nan, nan, nan, nan, nan, nan, nan, nan, nan, nan, nan, nan, nan, nan, nan, nan, nan, nan, nan, nan, nan, nan, nan, nan, nan, nan, nan, nan, nan, nan, nan, nan, nan, nan, nan, nan, nan, nan, nan, nan, nan, nan, nan, nan, nan, nan, nan, nan, nan, nan, nan, nan, nan, nan, nan, nan, nan, nan, nan, nan, nan, nan, nan, nan, nan, nan, nan, nan, nan, nan, nan, nan, nan, nan, nan, nan, nan, nan, nan, nan, nan, nan, nan, nan, nan, nan, nan, nan, nan, nan, nan, nan, nan, nan, nan, nan, nan, nan, nan, nan, nan, nan, nan, nan, nan, nan, nan, nan, nan, nan, nan, nan, nan, nan, nan, nan, nan, nan, nan, nan, nan, nan, nan, nan, nan, nan, nan, nan, nan, nan, nan, nan, nan, nan, nan, nan, nan, nan, nan, nan, nan, nan, nan, nan, nan, nan, nan, nan, nan, nan, nan, nan, nan, nan, nan, nan, nan, nan, nan, nan, nan, nan, nan, nan, nan, nan, nan, nan, nan, nan, nan, nan, nan, nan, nan, nan, nan, nan, nan, nan, nan, nan, nan, nan, nan, nan, nan, nan, nan, nan, nan, nan, nan, nan, nan, nan, nan, nan, nan, nan, nan, nan, nan, nan, nan, nan, nan, nan, nan, nan, nan, nan, nan, nan, nan, nan, nan, nan, nan, nan, nan, nan, nan, nan, nan, nan, nan, nan, nan, nan, nan, nan, nan, nan, nan, nan, nan, nan, nan, nan, nan, nan, nan, nan, nan, nan, nan, nan, nan, nan, nan, nan, nan, nan, nan, nan, nan, nan, nan, nan, nan, nan, nan, nan, nan, nan, nan, nan, nan, nan, nan, nan, nan, nan, nan, nan, nan, nan, nan, nan, nan, nan, nan, nan, nan, nan, nan, nan, nan, nan, nan, nan, nan, nan, nan, nan, nan, nan, nan, nan, nan, nan, nan, nan, nan, nan, nan, nan, nan, nan, nan, nan, nan, nan, nan, nan, nan, nan, nan, nan, nan, nan, nan, nan, nan, nan, nan, nan, nan, nan, nan, nan, nan, nan, nan, nan, nan, nan, nan, nan, nan, nan, nan, nan, nan, nan, nan, nan, nan, nan, nan, nan, nan, nan, nan, nan, nan, nan, nan, nan, nan, nan, nan, nan, nan, nan, nan, nan, nan, nan, nan, nan, nan, nan, nan, nan, nan, nan, nan, nan, nan, nan, nan, nan, nan, nan, nan, nan, nan, nan, nan, nan, nan, nan, nan, nan, nan, nan, nan, nan, nan, nan, nan, nan, nan, nan, nan, nan, nan, nan, nan, nan, nan, nan, nan, nan, nan, nan, nan, nan, nan, nan, nan, nan, nan, nan, nan, nan, nan, nan, nan, nan, nan, nan, nan, nan, nan, nan, nan, nan, nan, nan, nan, nan, nan, nan, nan, nan, nan, nan, nan, nan, nan, nan, nan, nan, nan, nan, nan, nan, nan, nan, nan, nan, nan, nan, nan, nan, nan, nan, nan, nan, nan, nan, nan, nan, nan, nan, nan, nan, nan, nan, nan, nan, nan, nan, nan, nan, nan, nan, nan, nan, nan, nan, nan, nan, nan, nan, nan, nan, nan, nan, nan, nan, nan, nan, nan, nan, nan, nan, nan, nan, nan, nan, nan, nan, nan, nan, nan, nan, nan, nan, nan, nan, nan, nan, nan, nan, nan, nan, nan, nan, nan, nan, nan, nan, nan, nan, nan, nan, nan, nan, nan, nan, nan, nan, nan, nan, nan, nan, nan, nan, nan, nan, nan, nan, nan, nan, nan, nan, nan, nan, nan, nan, nan, nan, nan, nan, nan, nan, nan, nan, nan, nan, nan, nan, nan, nan, nan, nan, nan, nan, nan, nan, nan, nan, nan, nan, nan, nan, nan, nan, nan, nan, nan, nan, nan, nan, nan, nan, nan, nan, nan, nan, nan, nan, nan, nan, nan, nan, nan, nan, nan, nan, nan, nan, nan, nan, nan, nan, nan, nan, nan, nan, nan, nan, nan, nan, nan, nan, nan, nan, nan, nan, nan, nan, nan, nan, nan, nan, nan, nan, nan, nan, nan, nan, nan, nan, nan, nan, nan, nan, nan, nan, nan, nan, nan, nan, nan, nan, nan, nan, nan, nan, nan, nan, nan, nan, nan, nan, nan, nan, nan, nan, nan, nan, nan, nan, nan, nan, nan, nan, nan, nan, nan, nan, nan, nan, nan, nan, nan, nan, nan, nan, nan, nan, nan, nan, nan, nan, nan, nan, nan, nan, nan, nan, nan, nan, nan, nan, nan, nan, nan, nan, nan, nan, nan, nan, nan, nan, nan, nan, nan, nan, nan, nan, nan, nan, nan, nan, nan, nan, nan, nan, nan, nan, nan, nan, nan, nan, nan, nan, nan, nan, nan, nan, nan, nan, nan, nan, nan, nan, nan, nan, nan, nan, nan, nan, nan, nan, nan, nan, nan, nan, nan, nan, nan, nan, nan, nan, nan, nan, nan, nan, nan, nan, nan, nan, nan, nan, nan, nan, nan, nan, nan, nan, nan, nan, nan, nan, nan, nan, nan, nan, nan, nan, nan, nan, nan, nan, nan, nan, nan, nan, nan, nan, nan, nan, nan, nan, nan, nan, nan, nan, nan, nan, nan, nan, nan, nan, nan, nan, nan, nan, nan, nan, nan, nan, nan, nan, nan, nan, nan, nan, nan, nan, nan, nan, nan, nan, nan, nan, nan, nan, nan, nan, nan, nan, nan, nan, nan, nan, nan, nan, nan, nan, nan, nan, nan, nan, nan, nan, nan, nan, nan, nan, nan, nan, nan, nan, nan, nan, nan, nan, nan, nan, nan, nan, nan, nan, nan, nan, nan, nan, nan, nan, nan, nan, nan, nan, nan, nan, nan, nan, nan, nan, nan, nan, nan, nan, nan, nan, nan, nan, nan, nan, nan, nan, nan, nan, nan, nan, nan, nan, nan, nan, nan, nan, nan, nan, nan, nan, nan, nan, nan, nan, nan, nan, nan, nan, nan, nan, nan, nan, nan, nan, nan, nan, nan, nan, nan}\n"
     ]
    }
   ],
   "source": [
    "print(set(new_data['ARTCLASS']))"
   ]
  },
  {
   "cell_type": "code",
   "execution_count": 18,
   "metadata": {},
   "outputs": [],
   "source": [
    "# This creates the dataset for visualizations\n",
    "new_data.to_csv('tacoma_datavis_data.csv', header=True, index=False)"
   ]
  },
  {
   "cell_type": "markdown",
   "metadata": {},
   "source": [
    "Now, we start prepping the dataset to be used for Machine Learning"
   ]
  },
  {
   "cell_type": "code",
   "execution_count": 19,
   "metadata": {},
   "outputs": [],
   "source": [
    "\n",
    "frederick = new_data"
   ]
  },
  {
   "cell_type": "code",
   "execution_count": 50,
   "metadata": {},
   "outputs": [
    {
     "name": "stderr",
     "output_type": "stream",
     "text": [
      "/opt/anaconda3/lib/python3.7/site-packages/IPython/core/interactiveshell.py:3072: DtypeWarning: Columns (57) have mixed types.Specify dtype option on import or set low_memory=False.\n",
      "  interactivity=interactivity, compiler=compiler, result=result)\n"
     ]
    },
    {
     "data": {
      "text/plain": "Index(['OBJECTID', 'Join_Count', 'gridcode', 'FACILITYID', 'INSTALLDATE',\n       'MATERIAL', 'DIAMETER', 'OWNEDBY', 'PIPECLASS', 'PIPESTATUS', 'Mid_X',\n       'Mid_y', 'WATERTYPE2', 'WATERSUBTYPE', 'NEAR_FID', 'NEAR_DIST',\n       'FID_ActualTacomaSoil', 'AREASYMBOL', 'SPATIALVER', 'MUSYM', 'MUKEY',\n       'musym_1', 'muname', 'NAME', 'TYPE', 'SUFDIR', 'LZIP', 'RZIP', 'PC_ID',\n       'DATE_', 'RLOG', 'FM', 'TM', 'LCITY', 'RCITY', 'FULLNAME', 'SHAPE_Leng',\n       'Shape_Length', 'Join_Count_1', 'Join_Count_12', 'Join_Count_12_13',\n       'Join_Count_12_13_14', 'Join_Count_12_13_14_15',\n       'Join_Count_12_13_14_15_16', 'Join_Count_12_13_14_15_16_17',\n       'Join_Count_12_13_14_15_16_17_18', 'Join_Count_12_13_14_15_16_17_18_19',\n       'Join_Count_12_13_14_15_16_17_18_19_20',\n       'Join_Count_12_13_14_15_16_17_18_19_20_21',\n       'Join_Count_12_13_14_15_16_17_18_19_20_21_22',\n       'Join_Count_12_13_14_15_16_17_18_19_20_21_22_23',\n       'Join_Count_12_13_14_15_16_17_18_19_20_21_22_23_24',\n       'Join_Count_12_13_14_15_16_17_18_19_20_21_22_23_24_25',\n       'Join_Count_12_13_14_15_16_17_18_19_20_21_22_23_24_25_26',\n       'Join_Count_12_13_14_15_16_17_18_19_20_21_22_23_24_25_26_27',\n       'Join_Count_12_13_14_15_16_17_18_19_20_21_22_23_24_25_26_27_28',\n       'Join_Count_12_13_14_15_16_17_18_19_20_21_22_23_24_25_26_27_28_29',\n       'Break_Yr', 'Target'],\n      dtype='object')"
     },
     "execution_count": 50,
     "metadata": {},
     "output_type": "execute_result"
    }
   ],
   "source": [
    "frederick = pd.read_csv('/Users/nelsschimek/Documents/IIDC/Water Pipe Project/Water-Pipe-Project/Water-Pipe-Project/data/tacoma_datavis_data.csv')\n",
    "frederick.columns"
   ]
  },
  {
   "cell_type": "code",
   "execution_count": 51,
   "metadata": {},
   "outputs": [
    {
     "data": {
      "text/html": "<div>\n<style scoped>\n    .dataframe tbody tr th:only-of-type {\n        vertical-align: middle;\n    }\n\n    .dataframe tbody tr th {\n        vertical-align: top;\n    }\n\n    .dataframe thead th {\n        text-align: right;\n    }\n</style>\n<table border=\"1\" class=\"dataframe\">\n  <thead>\n    <tr style=\"text-align: right;\">\n      <th></th>\n      <th>OBJECTID</th>\n      <th>Join_Count</th>\n      <th>gridcode</th>\n      <th>FACILITYID</th>\n      <th>INSTALLDATE</th>\n      <th>MATERIAL</th>\n      <th>DIAMETER</th>\n      <th>OWNEDBY</th>\n      <th>PIPECLASS</th>\n      <th>PIPESTATUS</th>\n      <th>...</th>\n      <th>Join_Count_12_13_14_15_16_17_18_19_20_21_22</th>\n      <th>Join_Count_12_13_14_15_16_17_18_19_20_21_22_23</th>\n      <th>Join_Count_12_13_14_15_16_17_18_19_20_21_22_23_24</th>\n      <th>Join_Count_12_13_14_15_16_17_18_19_20_21_22_23_24_25</th>\n      <th>Join_Count_12_13_14_15_16_17_18_19_20_21_22_23_24_25_26</th>\n      <th>Join_Count_12_13_14_15_16_17_18_19_20_21_22_23_24_25_26_27</th>\n      <th>Join_Count_12_13_14_15_16_17_18_19_20_21_22_23_24_25_26_27_28</th>\n      <th>Join_Count_12_13_14_15_16_17_18_19_20_21_22_23_24_25_26_27_28_29</th>\n      <th>Break_Yr</th>\n      <th>Target</th>\n    </tr>\n  </thead>\n  <tbody>\n    <tr>\n      <th>0</th>\n      <td>1</td>\n      <td>1</td>\n      <td>25</td>\n      <td>M-0019378</td>\n      <td>1/3/1994 0:00</td>\n      <td>DIP</td>\n      <td>8</td>\n      <td>1</td>\n      <td>SP CL 52</td>\n      <td>0</td>\n      <td>...</td>\n      <td>0</td>\n      <td>0</td>\n      <td>0</td>\n      <td>0</td>\n      <td>0</td>\n      <td>0</td>\n      <td>0</td>\n      <td>0</td>\n      <td>NaN</td>\n      <td>0</td>\n    </tr>\n    <tr>\n      <th>1</th>\n      <td>2</td>\n      <td>1</td>\n      <td>4</td>\n      <td>M-0019378</td>\n      <td>1/3/1994 0:00</td>\n      <td>DIP</td>\n      <td>8</td>\n      <td>1</td>\n      <td>SP CL 52</td>\n      <td>0</td>\n      <td>...</td>\n      <td>0</td>\n      <td>0</td>\n      <td>0</td>\n      <td>0</td>\n      <td>0</td>\n      <td>0</td>\n      <td>0</td>\n      <td>0</td>\n      <td>NaN</td>\n      <td>0</td>\n    </tr>\n    <tr>\n      <th>2</th>\n      <td>3</td>\n      <td>1</td>\n      <td>3</td>\n      <td>M-0019378</td>\n      <td>1/3/1994 0:00</td>\n      <td>DIP</td>\n      <td>8</td>\n      <td>1</td>\n      <td>SP CL 52</td>\n      <td>0</td>\n      <td>...</td>\n      <td>0</td>\n      <td>0</td>\n      <td>0</td>\n      <td>0</td>\n      <td>0</td>\n      <td>0</td>\n      <td>0</td>\n      <td>0</td>\n      <td>NaN</td>\n      <td>0</td>\n    </tr>\n    <tr>\n      <th>3</th>\n      <td>4</td>\n      <td>1</td>\n      <td>12</td>\n      <td>M-0019378</td>\n      <td>1/3/1994 0:00</td>\n      <td>DIP</td>\n      <td>8</td>\n      <td>1</td>\n      <td>SP CL 52</td>\n      <td>0</td>\n      <td>...</td>\n      <td>0</td>\n      <td>0</td>\n      <td>0</td>\n      <td>0</td>\n      <td>0</td>\n      <td>0</td>\n      <td>0</td>\n      <td>0</td>\n      <td>NaN</td>\n      <td>0</td>\n    </tr>\n    <tr>\n      <th>4</th>\n      <td>5</td>\n      <td>1</td>\n      <td>10</td>\n      <td>M-0019378</td>\n      <td>1/3/1994 0:00</td>\n      <td>DIP</td>\n      <td>8</td>\n      <td>1</td>\n      <td>SP CL 52</td>\n      <td>0</td>\n      <td>...</td>\n      <td>0</td>\n      <td>0</td>\n      <td>0</td>\n      <td>0</td>\n      <td>0</td>\n      <td>0</td>\n      <td>0</td>\n      <td>0</td>\n      <td>NaN</td>\n      <td>0</td>\n    </tr>\n    <tr>\n      <th>...</th>\n      <td>...</td>\n      <td>...</td>\n      <td>...</td>\n      <td>...</td>\n      <td>...</td>\n      <td>...</td>\n      <td>...</td>\n      <td>...</td>\n      <td>...</td>\n      <td>...</td>\n      <td>...</td>\n      <td>...</td>\n      <td>...</td>\n      <td>...</td>\n      <td>...</td>\n      <td>...</td>\n      <td>...</td>\n      <td>...</td>\n      <td>...</td>\n      <td>...</td>\n      <td>...</td>\n    </tr>\n    <tr>\n      <th>316977</th>\n      <td>309726</td>\n      <td>0</td>\n      <td>22</td>\n      <td>M-0037890</td>\n      <td>1/3/1984 0:00</td>\n      <td>DIP</td>\n      <td>16</td>\n      <td>1</td>\n      <td>50</td>\n      <td>0</td>\n      <td>...</td>\n      <td>0</td>\n      <td>0</td>\n      <td>0</td>\n      <td>0</td>\n      <td>0</td>\n      <td>0</td>\n      <td>0</td>\n      <td>1</td>\n      <td>9/4/2003 0:00</td>\n      <td>1</td>\n    </tr>\n    <tr>\n      <th>316978</th>\n      <td>92353</td>\n      <td>1</td>\n      <td>29</td>\n      <td>M-0118409</td>\n      <td>1/3/1934 0:00</td>\n      <td>STL</td>\n      <td>42</td>\n      <td>1</td>\n      <td>UNK</td>\n      <td>0</td>\n      <td>...</td>\n      <td>0</td>\n      <td>0</td>\n      <td>0</td>\n      <td>0</td>\n      <td>0</td>\n      <td>0</td>\n      <td>0</td>\n      <td>1</td>\n      <td>9/2/2003 0:00</td>\n      <td>1</td>\n    </tr>\n    <tr>\n      <th>316979</th>\n      <td>192237</td>\n      <td>1</td>\n      <td>3</td>\n      <td>M-0039987</td>\n      <td>1/3/1911 0:00</td>\n      <td>CIP</td>\n      <td>6</td>\n      <td>1</td>\n      <td>UNK</td>\n      <td>0</td>\n      <td>...</td>\n      <td>0</td>\n      <td>0</td>\n      <td>0</td>\n      <td>0</td>\n      <td>0</td>\n      <td>0</td>\n      <td>0</td>\n      <td>2</td>\n      <td>9/2/2003 0:00</td>\n      <td>1</td>\n    </tr>\n    <tr>\n      <th>316980</th>\n      <td>192237</td>\n      <td>1</td>\n      <td>3</td>\n      <td>M-0039987</td>\n      <td>1/3/1911 0:00</td>\n      <td>CIP</td>\n      <td>6</td>\n      <td>1</td>\n      <td>UNK</td>\n      <td>0</td>\n      <td>...</td>\n      <td>0</td>\n      <td>0</td>\n      <td>0</td>\n      <td>0</td>\n      <td>0</td>\n      <td>0</td>\n      <td>0</td>\n      <td>2</td>\n      <td>9/2/2003 0:00</td>\n      <td>1</td>\n    </tr>\n    <tr>\n      <th>316981</th>\n      <td>189771</td>\n      <td>1</td>\n      <td>16</td>\n      <td>M-0039045</td>\n      <td>1/3/1975 0:00</td>\n      <td>DIP</td>\n      <td>6</td>\n      <td>1</td>\n      <td>2</td>\n      <td>0</td>\n      <td>...</td>\n      <td>0</td>\n      <td>0</td>\n      <td>0</td>\n      <td>0</td>\n      <td>0</td>\n      <td>0</td>\n      <td>0</td>\n      <td>1</td>\n      <td>9/2/2003 0:00</td>\n      <td>1</td>\n    </tr>\n  </tbody>\n</table>\n<p>316982 rows × 59 columns</p>\n</div>",
      "text/plain": "        OBJECTID  Join_Count  gridcode FACILITYID    INSTALLDATE MATERIAL  \\\n0              1           1        25  M-0019378  1/3/1994 0:00      DIP   \n1              2           1         4  M-0019378  1/3/1994 0:00      DIP   \n2              3           1         3  M-0019378  1/3/1994 0:00      DIP   \n3              4           1        12  M-0019378  1/3/1994 0:00      DIP   \n4              5           1        10  M-0019378  1/3/1994 0:00      DIP   \n...          ...         ...       ...        ...            ...      ...   \n316977    309726           0        22  M-0037890  1/3/1984 0:00      DIP   \n316978     92353           1        29  M-0118409  1/3/1934 0:00      STL   \n316979    192237           1         3  M-0039987  1/3/1911 0:00      CIP   \n316980    192237           1         3  M-0039987  1/3/1911 0:00      CIP   \n316981    189771           1        16  M-0039045  1/3/1975 0:00      DIP   \n\n        DIAMETER  OWNEDBY PIPECLASS  PIPESTATUS  ...  \\\n0              8        1  SP CL 52           0  ...   \n1              8        1  SP CL 52           0  ...   \n2              8        1  SP CL 52           0  ...   \n3              8        1  SP CL 52           0  ...   \n4              8        1  SP CL 52           0  ...   \n...          ...      ...       ...         ...  ...   \n316977        16        1        50           0  ...   \n316978        42        1       UNK           0  ...   \n316979         6        1       UNK           0  ...   \n316980         6        1       UNK           0  ...   \n316981         6        1         2           0  ...   \n\n        Join_Count_12_13_14_15_16_17_18_19_20_21_22  \\\n0                                                 0   \n1                                                 0   \n2                                                 0   \n3                                                 0   \n4                                                 0   \n...                                             ...   \n316977                                            0   \n316978                                            0   \n316979                                            0   \n316980                                            0   \n316981                                            0   \n\n        Join_Count_12_13_14_15_16_17_18_19_20_21_22_23  \\\n0                                                    0   \n1                                                    0   \n2                                                    0   \n3                                                    0   \n4                                                    0   \n...                                                ...   \n316977                                               0   \n316978                                               0   \n316979                                               0   \n316980                                               0   \n316981                                               0   \n\n        Join_Count_12_13_14_15_16_17_18_19_20_21_22_23_24  \\\n0                                                       0   \n1                                                       0   \n2                                                       0   \n3                                                       0   \n4                                                       0   \n...                                                   ...   \n316977                                                  0   \n316978                                                  0   \n316979                                                  0   \n316980                                                  0   \n316981                                                  0   \n\n        Join_Count_12_13_14_15_16_17_18_19_20_21_22_23_24_25  \\\n0                                                       0      \n1                                                       0      \n2                                                       0      \n3                                                       0      \n4                                                       0      \n...                                                   ...      \n316977                                                  0      \n316978                                                  0      \n316979                                                  0      \n316980                                                  0      \n316981                                                  0      \n\n        Join_Count_12_13_14_15_16_17_18_19_20_21_22_23_24_25_26  \\\n0                                                       0         \n1                                                       0         \n2                                                       0         \n3                                                       0         \n4                                                       0         \n...                                                   ...         \n316977                                                  0         \n316978                                                  0         \n316979                                                  0         \n316980                                                  0         \n316981                                                  0         \n\n        Join_Count_12_13_14_15_16_17_18_19_20_21_22_23_24_25_26_27  \\\n0                                                       0            \n1                                                       0            \n2                                                       0            \n3                                                       0            \n4                                                       0            \n...                                                   ...            \n316977                                                  0            \n316978                                                  0            \n316979                                                  0            \n316980                                                  0            \n316981                                                  0            \n\n        Join_Count_12_13_14_15_16_17_18_19_20_21_22_23_24_25_26_27_28  \\\n0                                                       0               \n1                                                       0               \n2                                                       0               \n3                                                       0               \n4                                                       0               \n...                                                   ...               \n316977                                                  0               \n316978                                                  0               \n316979                                                  0               \n316980                                                  0               \n316981                                                  0               \n\n       Join_Count_12_13_14_15_16_17_18_19_20_21_22_23_24_25_26_27_28_29  \\\n0                                                       0                 \n1                                                       0                 \n2                                                       0                 \n3                                                       0                 \n4                                                       0                 \n...                                                   ...                 \n316977                                                  1                 \n316978                                                  1                 \n316979                                                  2                 \n316980                                                  2                 \n316981                                                  1                 \n\n             Break_Yr Target  \n0                 NaN      0  \n1                 NaN      0  \n2                 NaN      0  \n3                 NaN      0  \n4                 NaN      0  \n...               ...    ...  \n316977  9/4/2003 0:00      1  \n316978  9/2/2003 0:00      1  \n316979  9/2/2003 0:00      1  \n316980  9/2/2003 0:00      1  \n316981  9/2/2003 0:00      1  \n\n[316982 rows x 59 columns]"
     },
     "execution_count": 51,
     "metadata": {},
     "output_type": "execute_result"
    }
   ],
   "source": [
    "frederick"
   ]
  },
  {
   "cell_type": "code",
   "execution_count": 52,
   "metadata": {},
   "outputs": [],
   "source": [
    "# # Column names will likely need to be change depending on CSV\n",
    "\n",
    "# frederick = frederick.rename( columns=\n",
    "#     { \n",
    "#      'Join_Count_12': 'Breaks_nearby_2009',\n",
    "#        'Join_Count_12_13': 'Breaks_nearby_2010', \n",
    "#        'Join_Count_12_13_14': 'Breaks_nearby_2011', \n",
    "#        'Join_Count_12_13_14_15': 'Breaks_nearby_2012',\n",
    "#        'Join_Count_12_13_14_15_16': 'Breaks_nearby_2013', \n",
    "#        'Join_Count_12_13_14_15_16_17': 'Breaks_nearby_2014',\n",
    "#        'Join_Count_12_13_14_15_16_17_18': 'Breaks_nearby_2015', \n",
    "#        'Join_Count_12_13_14_15_16_17_18_19': 'Breaks_nearby_2016',\n",
    "#        'Join_Count_12_13_14_15_16_17_18_19_20': 'Breaks_nearby_2017',\n",
    "#        'Join_Count_12_13_14_15_16_17_18_19_20_21': 'Breaks_nearby_2018',\n",
    "#        'Join_Count_12_13_14_15_16_17_18_19_20_21_22': 'Breaks_nearby_2019',\n",
    "#        'Join_Count_12_13_14_15_16_17_18_19_20_21_22_23': 'Breaks_nearby_2020',\n",
    "#        'MNL_INSTAL': 'Install_year',\n",
    "#        'MNL_MATE_1': 'Material',\n",
    "#        'MNL_LENGTH': 'Length',\n",
    "#        'SPEEDLIMIT': 'Speed_limit',\n",
    "#        'SURFACETYP': 'Surface_type',\n",
    "#        'MUSYM': 'Soil_type',\n",
    "#        'SURFACEWID': 'Surface_width',\n",
    "#        'ARTCLASS': 'Arterial_class',\n",
    "#        'SLOPE_PCT': 'Slope'\n",
    "\n",
    "       \n",
    "#     })\n",
    "\n",
    "frederick = frederick.rename(columns=\n",
    "{\n",
    "    'Join_Count_1': 'Breaks_nearby_2003',\n",
    "    'Join_Count_12': 'Breaks_nearby_2004',\n",
    "    'Join_Count_12_13': 'Breaks_nearby_2005',\n",
    "    'Join_Count_12_13_14': 'Breaks_nearby_2006',\n",
    "    'Join_Count_12_13_14_15': 'Breaks_nearby_2007',\n",
    "    'Join_Count_12_13_14_15_16': 'Breaks_nearby_2008',\n",
    "    'Join_Count_12_13_14_15_16_17': 'Breaks_nearby_2009',\n",
    "    'Join_Count_12_13_14_15_16_17_18': 'Breaks_nearby_2010',\n",
    "    'Join_Count_12_13_14_15_16_17_18_19': 'Breaks_nearby_2011',\n",
    "    'Join_Count_12_13_14_15_16_17_18_19_20': 'Breaks_nearby_2012',\n",
    "    'Join_Count_12_13_14_15_16_17_18_19_20_21': 'Breaks_nearby_2013',\n",
    "    'Join_Count_12_13_14_15_16_17_18_19_20_21_22': 'Breaks_nearby_2014',\n",
    "    'Join_Count_12_13_14_15_16_17_18_19_20_21_22_23': 'Breaks_nearby_2015',\n",
    "    'Join_Count_12_13_14_15_16_17_18_19_20_21_22_23_24': 'Breaks_nearby_2016',\n",
    "    'Join_Count_12_13_14_15_16_17_18_19_20_21_22_23_24_25': 'Breaks_nearby_2017',\n",
    "    'Join_Count_12_13_14_15_16_17_18_19_20_21_22_23_24_25_26': 'Breaks_nearby_2018',\n",
    "    'Join_Count_12_13_14_15_16_17_18_19_20_21_22_23_24_25_26_27': 'Breaks_nearby_2019',\n",
    "    'Join_Count_12_13_14_15_16_17_18_19_20_21_22_23_24_25_26_27_28': 'Breaks_nearby_2020',\n",
    "    #'MNL_INSTAL': 'Install_year',\n",
    "    #'MNL_MATE_1': 'Material',\n",
    "    'Shape_Length': 'Length',\n",
    "    #'SPEEDLIMIT': 'Speed_limit',\n",
    "    #'SURFACETYP': 'Surface_type',\n",
    "    'FID_ActualTacomaSoil': 'Soil_type',\n",
    "    #'SURFACEWID': 'Surface_width',\n",
    "    #'ARTCLASS': 'Arterial_class',\n",
    "    'gridcode': 'Slope'\n",
    "\n",
    "})"
   ]
  },
  {
   "cell_type": "code",
   "execution_count": 53,
   "metadata": {},
   "outputs": [],
   "source": [
    "# Depending on how long the years in the breaks dataset go back, this list can change\n",
    "\n",
    "# nearby_col_list = ['Breaks_nearby_2009',\n",
    "#        'Breaks_nearby_2010', \n",
    "#        'Breaks_nearby_2011',  'Breaks_nearby_2012', 'Breaks_nearby_2013', 'Breaks_nearby_2014', 'Breaks_nearby_2015', 'Breaks_nearby_2016', 'Breaks_nearby_2017', 'Breaks_nearby_2018', 'Breaks_nearby_2019',\n",
    "#         'Breaks_nearby_2020']\n",
    "\n",
    "nearby_col_list = ['Breaks_nearby_2003',\n",
    "        'Breaks_nearby_2004',\n",
    "        'Breaks_nearby_2005',\n",
    "        'Breaks_nearby_2006',\n",
    "        'Breaks_nearby_2007',\n",
    "        'Breaks_nearby_2008',\n",
    "        'Breaks_nearby_2009',\n",
    "        'Breaks_nearby_2010',\n",
    "        'Breaks_nearby_2011',\n",
    "        'Breaks_nearby_2012',\n",
    "        'Breaks_nearby_2013',\n",
    "        'Breaks_nearby_2014',\n",
    "        'Breaks_nearby_2015',\n",
    "        'Breaks_nearby_2016',\n",
    "        'Breaks_nearby_2017',\n",
    "        'Breaks_nearby_2018',\n",
    "        'Breaks_nearby_2019',\n",
    "        'Breaks_nearby_2020']"
   ]
  },
  {
   "cell_type": "code",
   "execution_count": 54,
   "metadata": {},
   "outputs": [
    {
     "name": "stdout",
     "output_type": "stream",
     "text": [
      "Breaks_nearby_2003\n",
      "477\n",
      "Breaks_nearby_2004\n",
      "5908\n",
      "Breaks_nearby_2005\n",
      "3208\n",
      "Breaks_nearby_2006\n",
      "2785\n",
      "Breaks_nearby_2007\n",
      "2733\n",
      "Breaks_nearby_2008\n",
      "2628\n",
      "Breaks_nearby_2009\n",
      "2665\n",
      "Breaks_nearby_2010\n",
      "2178\n",
      "Breaks_nearby_2011\n",
      "2288\n",
      "Breaks_nearby_2012\n",
      "2150\n",
      "Breaks_nearby_2013\n",
      "2351\n",
      "Breaks_nearby_2014\n",
      "3035\n",
      "Breaks_nearby_2015\n",
      "2887\n",
      "Breaks_nearby_2016\n",
      "3509\n",
      "Breaks_nearby_2017\n",
      "2494\n",
      "Breaks_nearby_2018\n",
      "2460\n",
      "Breaks_nearby_2019\n",
      "2897\n",
      "Breaks_nearby_2020\n",
      "2759\n"
     ]
    }
   ],
   "source": [
    "for col in nearby_col_list:\n",
    "    print(col)\n",
    "    print(frederick[col].sum())"
   ]
  },
  {
   "cell_type": "code",
   "execution_count": 55,
   "metadata": {},
   "outputs": [],
   "source": [
    "# columns = [\n",
    "#        'TARGET_FID',\n",
    "#        'Material', \n",
    "#        'Length',\n",
    "#        'Install_year',\n",
    "#        'Soil_type',\n",
    "#        'Arterial_class',\n",
    "#        'Surface_width',\n",
    "#        'Surface_type',\n",
    "#        'Speed_limit',\n",
    "#        'Slope',\n",
    "#        'Width',\n",
    "#        'Breaks_nearby_2009', 'Breaks_nearby_2010',\n",
    "#        'Breaks_nearby_2011', 'Breaks_nearby_2012', 'Breaks_nearby_2013',\n",
    "#        'Breaks_nearby_2014', 'Breaks_nearby_2015', 'Breaks_nearby_2016',\n",
    "#        'Breaks_nearby_2017', 'Breaks_nearby_2018', 'Breaks_nearby_2019',\n",
    "#        'Breaks_nearby_2020',\n",
    "#        'Break_Yr',\n",
    "#        'Target']\n",
    "\n",
    "columns = [\n",
    "       'OBJECTID',\n",
    "       'MATERIAL',\n",
    "       'Length',\n",
    "       'INSTALLDATE',\n",
    "       'Soil_type',\n",
    "       #'Arterial_class',\n",
    "       #'Surface_width',\n",
    "       #'Surface_type',\n",
    "       #'Speed_limit',\n",
    "       'Slope',\n",
    "       'DIAMETER',\n",
    "       'Breaks_nearby_2003',\n",
    "       'Breaks_nearby_2004',\n",
    "       'Breaks_nearby_2005',\n",
    "       'Breaks_nearby_2006',\n",
    "       'Breaks_nearby_2007',\n",
    "       'Breaks_nearby_2008',\n",
    "       'Breaks_nearby_2009', 'Breaks_nearby_2010',\n",
    "       'Breaks_nearby_2011', 'Breaks_nearby_2012', 'Breaks_nearby_2013',\n",
    "       'Breaks_nearby_2014', 'Breaks_nearby_2015', 'Breaks_nearby_2016',\n",
    "       'Breaks_nearby_2017', 'Breaks_nearby_2018', 'Breaks_nearby_2019',\n",
    "       'Breaks_nearby_2020',\n",
    "       'Break_Yr',\n",
    "       'Target']"
   ]
  },
  {
   "cell_type": "code",
   "execution_count": 72,
   "metadata": {},
   "outputs": [
    {
     "data": {
      "text/plain": "array([  nan, 2020., 2019., 2018., 2017., 2016., 2015., 2014., 2013.,\n       2012., 2011., 2010., 2009., 2008., 2007., 2006., 2005., 2004.,\n       2003.])"
     },
     "execution_count": 72,
     "metadata": {},
     "output_type": "execute_result"
    }
   ],
   "source": [
    "frederick['Break_Yr'].unique()"
   ]
  },
  {
   "cell_type": "code",
   "execution_count": 56,
   "metadata": {},
   "outputs": [
    {
     "data": {
      "text/html": "<div>\n<style scoped>\n    .dataframe tbody tr th:only-of-type {\n        vertical-align: middle;\n    }\n\n    .dataframe tbody tr th {\n        vertical-align: top;\n    }\n\n    .dataframe thead th {\n        text-align: right;\n    }\n</style>\n<table border=\"1\" class=\"dataframe\">\n  <thead>\n    <tr style=\"text-align: right;\">\n      <th></th>\n      <th>OBJECTID</th>\n      <th>Join_Count</th>\n      <th>Slope</th>\n      <th>FACILITYID</th>\n      <th>INSTALLDATE</th>\n      <th>MATERIAL</th>\n      <th>DIAMETER</th>\n      <th>OWNEDBY</th>\n      <th>PIPECLASS</th>\n      <th>PIPESTATUS</th>\n      <th>...</th>\n      <th>Breaks_nearby_2014</th>\n      <th>Breaks_nearby_2015</th>\n      <th>Breaks_nearby_2016</th>\n      <th>Breaks_nearby_2017</th>\n      <th>Breaks_nearby_2018</th>\n      <th>Breaks_nearby_2019</th>\n      <th>Breaks_nearby_2020</th>\n      <th>Join_Count_12_13_14_15_16_17_18_19_20_21_22_23_24_25_26_27_28_29</th>\n      <th>Break_Yr</th>\n      <th>Target</th>\n    </tr>\n  </thead>\n  <tbody>\n    <tr>\n      <th>316977</th>\n      <td>309726</td>\n      <td>0</td>\n      <td>22</td>\n      <td>M-0037890</td>\n      <td>1/3/1984 0:00</td>\n      <td>DIP</td>\n      <td>16</td>\n      <td>1</td>\n      <td>50</td>\n      <td>0</td>\n      <td>...</td>\n      <td>0</td>\n      <td>0</td>\n      <td>0</td>\n      <td>0</td>\n      <td>0</td>\n      <td>0</td>\n      <td>0</td>\n      <td>1</td>\n      <td>9/4/2003 0:00</td>\n      <td>1</td>\n    </tr>\n    <tr>\n      <th>316978</th>\n      <td>92353</td>\n      <td>1</td>\n      <td>29</td>\n      <td>M-0118409</td>\n      <td>1/3/1934 0:00</td>\n      <td>STL</td>\n      <td>42</td>\n      <td>1</td>\n      <td>UNK</td>\n      <td>0</td>\n      <td>...</td>\n      <td>0</td>\n      <td>0</td>\n      <td>0</td>\n      <td>0</td>\n      <td>0</td>\n      <td>0</td>\n      <td>0</td>\n      <td>1</td>\n      <td>9/2/2003 0:00</td>\n      <td>1</td>\n    </tr>\n    <tr>\n      <th>316979</th>\n      <td>192237</td>\n      <td>1</td>\n      <td>3</td>\n      <td>M-0039987</td>\n      <td>1/3/1911 0:00</td>\n      <td>CIP</td>\n      <td>6</td>\n      <td>1</td>\n      <td>UNK</td>\n      <td>0</td>\n      <td>...</td>\n      <td>0</td>\n      <td>0</td>\n      <td>0</td>\n      <td>0</td>\n      <td>0</td>\n      <td>0</td>\n      <td>0</td>\n      <td>2</td>\n      <td>9/2/2003 0:00</td>\n      <td>1</td>\n    </tr>\n    <tr>\n      <th>316980</th>\n      <td>192237</td>\n      <td>1</td>\n      <td>3</td>\n      <td>M-0039987</td>\n      <td>1/3/1911 0:00</td>\n      <td>CIP</td>\n      <td>6</td>\n      <td>1</td>\n      <td>UNK</td>\n      <td>0</td>\n      <td>...</td>\n      <td>0</td>\n      <td>0</td>\n      <td>0</td>\n      <td>0</td>\n      <td>0</td>\n      <td>0</td>\n      <td>0</td>\n      <td>2</td>\n      <td>9/2/2003 0:00</td>\n      <td>1</td>\n    </tr>\n    <tr>\n      <th>316981</th>\n      <td>189771</td>\n      <td>1</td>\n      <td>16</td>\n      <td>M-0039045</td>\n      <td>1/3/1975 0:00</td>\n      <td>DIP</td>\n      <td>6</td>\n      <td>1</td>\n      <td>2</td>\n      <td>0</td>\n      <td>...</td>\n      <td>0</td>\n      <td>0</td>\n      <td>0</td>\n      <td>0</td>\n      <td>0</td>\n      <td>0</td>\n      <td>0</td>\n      <td>1</td>\n      <td>9/2/2003 0:00</td>\n      <td>1</td>\n    </tr>\n  </tbody>\n</table>\n<p>5 rows × 59 columns</p>\n</div>",
      "text/plain": "        OBJECTID  Join_Count  Slope FACILITYID    INSTALLDATE MATERIAL  \\\n316977    309726           0     22  M-0037890  1/3/1984 0:00      DIP   \n316978     92353           1     29  M-0118409  1/3/1934 0:00      STL   \n316979    192237           1      3  M-0039987  1/3/1911 0:00      CIP   \n316980    192237           1      3  M-0039987  1/3/1911 0:00      CIP   \n316981    189771           1     16  M-0039045  1/3/1975 0:00      DIP   \n\n        DIAMETER  OWNEDBY PIPECLASS  PIPESTATUS  ...  Breaks_nearby_2014  \\\n316977        16        1        50           0  ...                   0   \n316978        42        1       UNK           0  ...                   0   \n316979         6        1       UNK           0  ...                   0   \n316980         6        1       UNK           0  ...                   0   \n316981         6        1         2           0  ...                   0   \n\n        Breaks_nearby_2015  Breaks_nearby_2016  Breaks_nearby_2017  \\\n316977                   0                   0                   0   \n316978                   0                   0                   0   \n316979                   0                   0                   0   \n316980                   0                   0                   0   \n316981                   0                   0                   0   \n\n        Breaks_nearby_2018  Breaks_nearby_2019 Breaks_nearby_2020  \\\n316977                   0                   0                  0   \n316978                   0                   0                  0   \n316979                   0                   0                  0   \n316980                   0                   0                  0   \n316981                   0                   0                  0   \n\n       Join_Count_12_13_14_15_16_17_18_19_20_21_22_23_24_25_26_27_28_29  \\\n316977                                                  1                 \n316978                                                  1                 \n316979                                                  2                 \n316980                                                  2                 \n316981                                                  1                 \n\n             Break_Yr Target  \n316977  9/4/2003 0:00      1  \n316978  9/2/2003 0:00      1  \n316979  9/2/2003 0:00      1  \n316980  9/2/2003 0:00      1  \n316981  9/2/2003 0:00      1  \n\n[5 rows x 59 columns]"
     },
     "execution_count": 56,
     "metadata": {},
     "output_type": "execute_result"
    }
   ],
   "source": [
    "frederick['Soil_type'] = frederick['Soil_type'].map(lambda x: str(x))\n",
    "frederick.tail()\n"
   ]
  },
  {
   "cell_type": "code",
   "execution_count": 58,
   "metadata": {},
   "outputs": [
    {
     "data": {
      "text/html": "<div>\n<style scoped>\n    .dataframe tbody tr th:only-of-type {\n        vertical-align: middle;\n    }\n\n    .dataframe tbody tr th {\n        vertical-align: top;\n    }\n\n    .dataframe thead th {\n        text-align: right;\n    }\n</style>\n<table border=\"1\" class=\"dataframe\">\n  <thead>\n    <tr style=\"text-align: right;\">\n      <th></th>\n      <th>OBJECTID</th>\n      <th>Join_Count</th>\n      <th>Slope</th>\n      <th>FACILITYID</th>\n      <th>INSTALLDATE</th>\n      <th>MATERIAL</th>\n      <th>DIAMETER</th>\n      <th>OWNEDBY</th>\n      <th>PIPECLASS</th>\n      <th>PIPESTATUS</th>\n      <th>...</th>\n      <th>Breaks_nearby_2014</th>\n      <th>Breaks_nearby_2015</th>\n      <th>Breaks_nearby_2016</th>\n      <th>Breaks_nearby_2017</th>\n      <th>Breaks_nearby_2018</th>\n      <th>Breaks_nearby_2019</th>\n      <th>Breaks_nearby_2020</th>\n      <th>Join_Count_12_13_14_15_16_17_18_19_20_21_22_23_24_25_26_27_28_29</th>\n      <th>Break_Yr</th>\n      <th>Target</th>\n    </tr>\n  </thead>\n  <tbody>\n    <tr>\n      <th>316977</th>\n      <td>309726</td>\n      <td>0</td>\n      <td>22</td>\n      <td>M-0037890</td>\n      <td>1984</td>\n      <td>DIP</td>\n      <td>16</td>\n      <td>1</td>\n      <td>50</td>\n      <td>0</td>\n      <td>...</td>\n      <td>0</td>\n      <td>0</td>\n      <td>0</td>\n      <td>0</td>\n      <td>0</td>\n      <td>0</td>\n      <td>0</td>\n      <td>1</td>\n      <td>2003.0</td>\n      <td>1</td>\n    </tr>\n    <tr>\n      <th>316978</th>\n      <td>92353</td>\n      <td>1</td>\n      <td>29</td>\n      <td>M-0118409</td>\n      <td>1934</td>\n      <td>STL</td>\n      <td>42</td>\n      <td>1</td>\n      <td>UNK</td>\n      <td>0</td>\n      <td>...</td>\n      <td>0</td>\n      <td>0</td>\n      <td>0</td>\n      <td>0</td>\n      <td>0</td>\n      <td>0</td>\n      <td>0</td>\n      <td>1</td>\n      <td>2003.0</td>\n      <td>1</td>\n    </tr>\n    <tr>\n      <th>316979</th>\n      <td>192237</td>\n      <td>1</td>\n      <td>3</td>\n      <td>M-0039987</td>\n      <td>1911</td>\n      <td>CIP</td>\n      <td>6</td>\n      <td>1</td>\n      <td>UNK</td>\n      <td>0</td>\n      <td>...</td>\n      <td>0</td>\n      <td>0</td>\n      <td>0</td>\n      <td>0</td>\n      <td>0</td>\n      <td>0</td>\n      <td>0</td>\n      <td>2</td>\n      <td>2003.0</td>\n      <td>1</td>\n    </tr>\n    <tr>\n      <th>316980</th>\n      <td>192237</td>\n      <td>1</td>\n      <td>3</td>\n      <td>M-0039987</td>\n      <td>1911</td>\n      <td>CIP</td>\n      <td>6</td>\n      <td>1</td>\n      <td>UNK</td>\n      <td>0</td>\n      <td>...</td>\n      <td>0</td>\n      <td>0</td>\n      <td>0</td>\n      <td>0</td>\n      <td>0</td>\n      <td>0</td>\n      <td>0</td>\n      <td>2</td>\n      <td>2003.0</td>\n      <td>1</td>\n    </tr>\n    <tr>\n      <th>316981</th>\n      <td>189771</td>\n      <td>1</td>\n      <td>16</td>\n      <td>M-0039045</td>\n      <td>1975</td>\n      <td>DIP</td>\n      <td>6</td>\n      <td>1</td>\n      <td>2</td>\n      <td>0</td>\n      <td>...</td>\n      <td>0</td>\n      <td>0</td>\n      <td>0</td>\n      <td>0</td>\n      <td>0</td>\n      <td>0</td>\n      <td>0</td>\n      <td>1</td>\n      <td>2003.0</td>\n      <td>1</td>\n    </tr>\n  </tbody>\n</table>\n<p>5 rows × 59 columns</p>\n</div>",
      "text/plain": "        OBJECTID  Join_Count  Slope FACILITYID  INSTALLDATE MATERIAL  \\\n316977    309726           0     22  M-0037890         1984      DIP   \n316978     92353           1     29  M-0118409         1934      STL   \n316979    192237           1      3  M-0039987         1911      CIP   \n316980    192237           1      3  M-0039987         1911      CIP   \n316981    189771           1     16  M-0039045         1975      DIP   \n\n        DIAMETER  OWNEDBY PIPECLASS  PIPESTATUS  ...  Breaks_nearby_2014  \\\n316977        16        1        50           0  ...                   0   \n316978        42        1       UNK           0  ...                   0   \n316979         6        1       UNK           0  ...                   0   \n316980         6        1       UNK           0  ...                   0   \n316981         6        1         2           0  ...                   0   \n\n        Breaks_nearby_2015  Breaks_nearby_2016  Breaks_nearby_2017  \\\n316977                   0                   0                   0   \n316978                   0                   0                   0   \n316979                   0                   0                   0   \n316980                   0                   0                   0   \n316981                   0                   0                   0   \n\n        Breaks_nearby_2018  Breaks_nearby_2019 Breaks_nearby_2020  \\\n316977                   0                   0                  0   \n316978                   0                   0                  0   \n316979                   0                   0                  0   \n316980                   0                   0                  0   \n316981                   0                   0                  0   \n\n       Join_Count_12_13_14_15_16_17_18_19_20_21_22_23_24_25_26_27_28_29  \\\n316977                                                  1                 \n316978                                                  1                 \n316979                                                  2                 \n316980                                                  2                 \n316981                                                  1                 \n\n        Break_Yr Target  \n316977    2003.0      1  \n316978    2003.0      1  \n316979    2003.0      1  \n316980    2003.0      1  \n316981    2003.0      1  \n\n[5 rows x 59 columns]"
     },
     "execution_count": 58,
     "metadata": {},
     "output_type": "execute_result"
    }
   ],
   "source": [
    "# columns names might be variable here too\n",
    "\n",
    "frederick['INSTALLDATE'] = pd.to_datetime(frederick['INSTALLDATE'], format='%m/%d/%Y %H:%M')\n",
    "frederick['INSTALLDATE'] = frederick['INSTALLDATE'].map(lambda x: x.year)\n",
    "\n",
    "frederick['Break_Yr'] = pd.to_datetime(frederick['Break_Yr'], format='%m/%d/%Y %H:%M')\n",
    "frederick['Break_Yr'] = frederick['Break_Yr'].map(lambda x: x.year)\n",
    "\n",
    "# only needed if soil type data is set as a number, not as a string\n",
    "frederick['Soil_type'] = frederick['Soil_type'].map(lambda x: str(x)) # making it a string becauase we dont want it to be numeric in this case\n",
    "\n",
    "frederick.tail()"
   ]
  },
  {
   "cell_type": "code",
   "execution_count": 93,
   "metadata": {},
   "outputs": [
    {
     "data": {
      "text/html": "<div>\n<style scoped>\n    .dataframe tbody tr th:only-of-type {\n        vertical-align: middle;\n    }\n\n    .dataframe tbody tr th {\n        vertical-align: top;\n    }\n\n    .dataframe thead th {\n        text-align: right;\n    }\n</style>\n<table border=\"1\" class=\"dataframe\">\n  <thead>\n    <tr style=\"text-align: right;\">\n      <th></th>\n      <th>OBJECTID_1</th>\n      <th>Join_Count</th>\n      <th>TARGET_FID</th>\n      <th>Join_Count_1</th>\n      <th>TARGET_FID_1</th>\n      <th>MNL_FEA_KE</th>\n      <th>MNL_FEAT_1</th>\n      <th>MNL_OWNE_1</th>\n      <th>Material</th>\n      <th>Length</th>\n      <th>...</th>\n      <th>Breaks_nearby_2013</th>\n      <th>Breaks_nearby_2014</th>\n      <th>Breaks_nearby_2015</th>\n      <th>Breaks_nearby_2016</th>\n      <th>Breaks_nearby_2017</th>\n      <th>Breaks_nearby_2018</th>\n      <th>Breaks_nearby_2019</th>\n      <th>Breaks_nearby_2020</th>\n      <th>Break_Yr</th>\n      <th>Target</th>\n    </tr>\n  </thead>\n  <tbody>\n    <tr>\n      <th>0</th>\n      <td>1</td>\n      <td>3</td>\n      <td>1</td>\n      <td>0</td>\n      <td>1</td>\n      <td>2171012</td>\n      <td>Mainline</td>\n      <td>Seattle Public Utilities</td>\n      <td>Concrete</td>\n      <td>314.79</td>\n      <td>...</td>\n      <td>0</td>\n      <td>0</td>\n      <td>0</td>\n      <td>0</td>\n      <td>0</td>\n      <td>0</td>\n      <td>0</td>\n      <td>0</td>\n      <td>NaN</td>\n      <td>0</td>\n    </tr>\n    <tr>\n      <th>1</th>\n      <td>2</td>\n      <td>3</td>\n      <td>2</td>\n      <td>0</td>\n      <td>2</td>\n      <td>2178518</td>\n      <td>Mainline</td>\n      <td>Seattle Public Utilities</td>\n      <td>Concrete</td>\n      <td>363.39</td>\n      <td>...</td>\n      <td>0</td>\n      <td>0</td>\n      <td>0</td>\n      <td>0</td>\n      <td>0</td>\n      <td>0</td>\n      <td>0</td>\n      <td>0</td>\n      <td>NaN</td>\n      <td>0</td>\n    </tr>\n    <tr>\n      <th>2</th>\n      <td>3</td>\n      <td>1</td>\n      <td>3</td>\n      <td>0</td>\n      <td>3</td>\n      <td>2163634</td>\n      <td>Mainline</td>\n      <td>Seattle Public Utilities</td>\n      <td>Concrete</td>\n      <td>323.51</td>\n      <td>...</td>\n      <td>0</td>\n      <td>0</td>\n      <td>0</td>\n      <td>0</td>\n      <td>0</td>\n      <td>0</td>\n      <td>0</td>\n      <td>0</td>\n      <td>NaN</td>\n      <td>0</td>\n    </tr>\n    <tr>\n      <th>3</th>\n      <td>4</td>\n      <td>3</td>\n      <td>4</td>\n      <td>0</td>\n      <td>4</td>\n      <td>2201252</td>\n      <td>Mainline</td>\n      <td>Seattle Public Utilities</td>\n      <td>Vitrified Clay</td>\n      <td>329.13</td>\n      <td>...</td>\n      <td>0</td>\n      <td>0</td>\n      <td>0</td>\n      <td>0</td>\n      <td>0</td>\n      <td>0</td>\n      <td>0</td>\n      <td>0</td>\n      <td>NaN</td>\n      <td>0</td>\n    </tr>\n    <tr>\n      <th>4</th>\n      <td>5</td>\n      <td>1</td>\n      <td>5</td>\n      <td>0</td>\n      <td>5</td>\n      <td>2171196</td>\n      <td>Mainline</td>\n      <td>Seattle Public Utilities</td>\n      <td>Reinforced Concrete Pipe</td>\n      <td>273.64</td>\n      <td>...</td>\n      <td>0</td>\n      <td>0</td>\n      <td>0</td>\n      <td>0</td>\n      <td>0</td>\n      <td>0</td>\n      <td>0</td>\n      <td>0</td>\n      <td>NaN</td>\n      <td>0</td>\n    </tr>\n  </tbody>\n</table>\n<p>5 rows × 78 columns</p>\n</div>",
      "text/plain": [
       "   OBJECTID_1  Join_Count  TARGET_FID  Join_Count_1  TARGET_FID_1  MNL_FEA_KE  \\\n",
       "0           1           3           1             0             1     2171012   \n",
       "1           2           3           2             0             2     2178518   \n",
       "2           3           1           3             0             3     2163634   \n",
       "3           4           3           4             0             4     2201252   \n",
       "4           5           1           5             0             5     2171196   \n",
       "\n",
       "  MNL_FEAT_1                MNL_OWNE_1                  Material  Length  ...  \\\n",
       "0   Mainline  Seattle Public Utilities                  Concrete  314.79  ...   \n",
       "1   Mainline  Seattle Public Utilities                  Concrete  363.39  ...   \n",
       "2   Mainline  Seattle Public Utilities                  Concrete  323.51  ...   \n",
       "3   Mainline  Seattle Public Utilities            Vitrified Clay  329.13  ...   \n",
       "4   Mainline  Seattle Public Utilities  Reinforced Concrete Pipe  273.64  ...   \n",
       "\n",
       "   Breaks_nearby_2013 Breaks_nearby_2014  Breaks_nearby_2015  \\\n",
       "0                   0                  0                   0   \n",
       "1                   0                  0                   0   \n",
       "2                   0                  0                   0   \n",
       "3                   0                  0                   0   \n",
       "4                   0                  0                   0   \n",
       "\n",
       "   Breaks_nearby_2016  Breaks_nearby_2017  Breaks_nearby_2018  \\\n",
       "0                   0                   0                   0   \n",
       "1                   0                   0                   0   \n",
       "2                   0                   0                   0   \n",
       "3                   0                   0                   0   \n",
       "4                   0                   0                   0   \n",
       "\n",
       "  Breaks_nearby_2019 Breaks_nearby_2020  Break_Yr  Target  \n",
       "0                  0                  0       NaN       0  \n",
       "1                  0                  0       NaN       0  \n",
       "2                  0                  0       NaN       0  \n",
       "3                  0                  0       NaN       0  \n",
       "4                  0                  0       NaN       0  \n",
       "\n",
       "[5 rows x 78 columns]"
      ]
     },
     "execution_count": 93,
     "metadata": {},
     "output_type": "execute_result"
    }
   ],
   "source": [
    "frederick.head()"
   ]
  },
  {
   "cell_type": "code",
   "execution_count": 59,
   "metadata": {},
   "outputs": [],
   "source": [
    "frederick = frederick[columns]"
   ]
  },
  {
   "cell_type": "code",
   "execution_count": 95,
   "metadata": {},
   "outputs": [],
   "source": [
    "frederick['Width'] = pd.to_numeric(frederick['Width'], errors='coerce')\n"
   ]
  },
  {
   "cell_type": "code",
   "execution_count": 60,
   "metadata": {},
   "outputs": [
    {
     "name": "stdout",
     "output_type": "stream",
     "text": [
      "OBJECTID\n",
      "Length\n",
      "INSTALLDATE\n",
      "Slope\n",
      "DIAMETER\n",
      "Breaks_nearby_2003\n",
      "Breaks_nearby_2004\n",
      "Breaks_nearby_2005\n",
      "Breaks_nearby_2006\n",
      "Breaks_nearby_2007\n",
      "Breaks_nearby_2008\n",
      "Breaks_nearby_2009\n",
      "Breaks_nearby_2010\n",
      "Breaks_nearby_2011\n",
      "Breaks_nearby_2012\n",
      "Breaks_nearby_2013\n",
      "Breaks_nearby_2014\n",
      "Breaks_nearby_2015\n",
      "Breaks_nearby_2016\n",
      "Breaks_nearby_2017\n",
      "Breaks_nearby_2018\n",
      "Breaks_nearby_2019\n",
      "Breaks_nearby_2020\n",
      "Break_Yr\n",
      "Target\n",
      "MATERIAL_ACP\n",
      "MATERIAL_BRS\n",
      "MATERIAL_CIP\n",
      "MATERIAL_CON\n",
      "MATERIAL_COP\n",
      "MATERIAL_DIP\n",
      "MATERIAL_GLV\n",
      "MATERIAL_HDPE\n",
      "MATERIAL_PE\n",
      "MATERIAL_PLS\n",
      "MATERIAL_PVC\n",
      "MATERIAL_RST\n",
      "MATERIAL_STL\n",
      "MATERIAL_UNK\n",
      "Soil_type_106\n",
      "Soil_type_1120\n",
      "Soil_type_1204\n",
      "Soil_type_1218\n",
      "Soil_type_1244\n",
      "Soil_type_1253\n",
      "Soil_type_1276\n",
      "Soil_type_1308\n",
      "Soil_type_1374\n",
      "Soil_type_1391\n",
      "Soil_type_1400\n",
      "Soil_type_148\n",
      "Soil_type_2054\n",
      "Soil_type_2055\n",
      "Soil_type_2060\n",
      "Soil_type_2061\n",
      "Soil_type_2069\n",
      "Soil_type_2076\n",
      "Soil_type_2081\n",
      "Soil_type_2096\n",
      "Soil_type_2097\n",
      "Soil_type_2103\n",
      "Soil_type_2105\n",
      "Soil_type_2106\n",
      "Soil_type_2107\n",
      "Soil_type_2112\n",
      "Soil_type_2113\n",
      "Soil_type_2122\n",
      "Soil_type_2123\n",
      "Soil_type_2124\n",
      "Soil_type_2125\n",
      "Soil_type_2126\n",
      "Soil_type_2127\n",
      "Soil_type_2138\n",
      "Soil_type_2139\n",
      "Soil_type_2141\n",
      "Soil_type_2145\n",
      "Soil_type_2146\n",
      "Soil_type_2148\n",
      "Soil_type_2152\n",
      "Soil_type_2153\n",
      "Soil_type_2157\n",
      "Soil_type_2158\n",
      "Soil_type_2161\n",
      "Soil_type_2162\n",
      "Soil_type_2172\n",
      "Soil_type_2173\n",
      "Soil_type_2175\n",
      "Soil_type_2193\n",
      "Soil_type_2194\n",
      "Soil_type_2197\n",
      "Soil_type_2198\n",
      "Soil_type_2203\n",
      "Soil_type_2205\n",
      "Soil_type_2206\n",
      "Soil_type_2210\n",
      "Soil_type_2211\n",
      "Soil_type_2214\n",
      "Soil_type_2218\n",
      "Soil_type_2226\n",
      "Soil_type_2228\n",
      "Soil_type_2229\n",
      "Soil_type_2231\n",
      "Soil_type_2232\n",
      "Soil_type_2234\n",
      "Soil_type_2238\n",
      "Soil_type_2243\n",
      "Soil_type_2247\n",
      "Soil_type_2253\n",
      "Soil_type_2257\n",
      "Soil_type_2260\n",
      "Soil_type_2261\n",
      "Soil_type_2268\n",
      "Soil_type_2272\n",
      "Soil_type_2275\n",
      "Soil_type_2276\n",
      "Soil_type_2292\n",
      "Soil_type_2293\n",
      "Soil_type_2294\n",
      "Soil_type_2300\n",
      "Soil_type_2303\n",
      "Soil_type_2313\n",
      "Soil_type_2316\n",
      "Soil_type_2327\n",
      "Soil_type_2328\n",
      "Soil_type_2330\n",
      "Soil_type_2338\n",
      "Soil_type_2340\n",
      "Soil_type_2347\n",
      "Soil_type_2351\n",
      "Soil_type_2354\n",
      "Soil_type_2358\n",
      "Soil_type_2360\n",
      "Soil_type_2367\n",
      "Soil_type_2368\n",
      "Soil_type_2369\n",
      "Soil_type_2372\n",
      "Soil_type_2375\n",
      "Soil_type_2376\n",
      "Soil_type_2381\n",
      "Soil_type_2382\n",
      "Soil_type_2388\n",
      "Soil_type_2399\n",
      "Soil_type_2401\n",
      "Soil_type_2402\n",
      "Soil_type_2403\n",
      "Soil_type_2407\n",
      "Soil_type_2412\n",
      "Soil_type_2416\n",
      "Soil_type_2433\n",
      "Soil_type_2437\n",
      "Soil_type_2438\n",
      "Soil_type_2441\n",
      "Soil_type_2443\n",
      "Soil_type_2446\n",
      "Soil_type_2447\n",
      "Soil_type_2448\n",
      "Soil_type_2449\n",
      "Soil_type_2450\n",
      "Soil_type_2455\n",
      "Soil_type_2456\n",
      "Soil_type_2467\n",
      "Soil_type_2468\n",
      "Soil_type_2470\n",
      "Soil_type_2473\n",
      "Soil_type_2477\n",
      "Soil_type_2478\n",
      "Soil_type_2479\n",
      "Soil_type_2481\n",
      "Soil_type_2486\n",
      "Soil_type_2488\n",
      "Soil_type_2492\n",
      "Soil_type_2505\n",
      "Soil_type_2509\n",
      "Soil_type_2516\n",
      "Soil_type_2519\n",
      "Soil_type_2523\n",
      "Soil_type_2530\n",
      "Soil_type_2532\n",
      "Soil_type_2535\n",
      "Soil_type_2541\n",
      "Soil_type_2548\n",
      "Soil_type_2554\n",
      "Soil_type_2555\n",
      "Soil_type_2556\n",
      "Soil_type_2560\n",
      "Soil_type_2562\n",
      "Soil_type_2576\n",
      "Soil_type_2584\n",
      "Soil_type_2595\n",
      "Soil_type_2598\n",
      "Soil_type_2600\n",
      "Soil_type_2613\n",
      "Soil_type_2619\n",
      "Soil_type_2622\n",
      "Soil_type_263\n",
      "Soil_type_2632\n",
      "Soil_type_2644\n",
      "Soil_type_2656\n",
      "Soil_type_2659\n",
      "Soil_type_2661\n",
      "Soil_type_2663\n",
      "Soil_type_2675\n",
      "Soil_type_2676\n",
      "Soil_type_2677\n",
      "Soil_type_2692\n",
      "Soil_type_2693\n",
      "Soil_type_2694\n",
      "Soil_type_2697\n",
      "Soil_type_2698\n",
      "Soil_type_2703\n",
      "Soil_type_2706\n",
      "Soil_type_2707\n",
      "Soil_type_2713\n",
      "Soil_type_2718\n",
      "Soil_type_2719\n",
      "Soil_type_2725\n",
      "Soil_type_2728\n",
      "Soil_type_2731\n",
      "Soil_type_2732\n",
      "Soil_type_2741\n",
      "Soil_type_2742\n",
      "Soil_type_2744\n",
      "Soil_type_2748\n",
      "Soil_type_2753\n",
      "Soil_type_2754\n",
      "Soil_type_2755\n",
      "Soil_type_2760\n",
      "Soil_type_2762\n",
      "Soil_type_2765\n",
      "Soil_type_2768\n",
      "Soil_type_2769\n",
      "Soil_type_2771\n",
      "Soil_type_2773\n",
      "Soil_type_2774\n",
      "Soil_type_2786\n",
      "Soil_type_2790\n",
      "Soil_type_2794\n",
      "Soil_type_2795\n",
      "Soil_type_2798\n",
      "Soil_type_2799\n",
      "Soil_type_2800\n",
      "Soil_type_2801\n",
      "Soil_type_2802\n",
      "Soil_type_2809\n",
      "Soil_type_2811\n",
      "Soil_type_2812\n",
      "Soil_type_2816\n",
      "Soil_type_2817\n",
      "Soil_type_2820\n",
      "Soil_type_2839\n",
      "Soil_type_2843\n",
      "Soil_type_2845\n",
      "Soil_type_2846\n",
      "Soil_type_2847\n",
      "Soil_type_2848\n",
      "Soil_type_2849\n",
      "Soil_type_2859\n",
      "Soil_type_2863\n",
      "Soil_type_2864\n",
      "Soil_type_2870\n",
      "Soil_type_2873\n",
      "Soil_type_2881\n",
      "Soil_type_2882\n",
      "Soil_type_2884\n",
      "Soil_type_2891\n",
      "Soil_type_2902\n",
      "Soil_type_2903\n",
      "Soil_type_2906\n",
      "Soil_type_2910\n",
      "Soil_type_2911\n",
      "Soil_type_2912\n",
      "Soil_type_2915\n",
      "Soil_type_2923\n",
      "Soil_type_2926\n",
      "Soil_type_2927\n",
      "Soil_type_2928\n",
      "Soil_type_2929\n",
      "Soil_type_2936\n",
      "Soil_type_2942\n",
      "Soil_type_2944\n",
      "Soil_type_2946\n",
      "Soil_type_2965\n",
      "Soil_type_2966\n",
      "Soil_type_2968\n",
      "Soil_type_2971\n",
      "Soil_type_2972\n",
      "Soil_type_2976\n",
      "Soil_type_2978\n",
      "Soil_type_2981\n",
      "Soil_type_2982\n",
      "Soil_type_2983\n",
      "Soil_type_2987\n",
      "Soil_type_2993\n",
      "Soil_type_2994\n",
      "Soil_type_2998\n",
      "Soil_type_3009\n",
      "Soil_type_3014\n",
      "Soil_type_3021\n",
      "Soil_type_3024\n",
      "Soil_type_3041\n",
      "Soil_type_3044\n",
      "Soil_type_3045\n",
      "Soil_type_3055\n",
      "Soil_type_3057\n",
      "Soil_type_3061\n",
      "Soil_type_3063\n",
      "Soil_type_3065\n",
      "Soil_type_3069\n",
      "Soil_type_3071\n",
      "Soil_type_3072\n",
      "Soil_type_3073\n",
      "Soil_type_3076\n",
      "Soil_type_3079\n",
      "Soil_type_3081\n",
      "Soil_type_3083\n",
      "Soil_type_3084\n",
      "Soil_type_3085\n",
      "Soil_type_3086\n",
      "Soil_type_3091\n",
      "Soil_type_3096\n",
      "Soil_type_3097\n",
      "Soil_type_3103\n",
      "Soil_type_3113\n",
      "Soil_type_3114\n",
      "Soil_type_3118\n",
      "Soil_type_3120\n",
      "Soil_type_3135\n",
      "Soil_type_3139\n",
      "Soil_type_3144\n",
      "Soil_type_3145\n",
      "Soil_type_3150\n",
      "Soil_type_3153\n",
      "Soil_type_3161\n",
      "Soil_type_3169\n",
      "Soil_type_3172\n",
      "Soil_type_3176\n",
      "Soil_type_3178\n",
      "Soil_type_3180\n",
      "Soil_type_3181\n",
      "Soil_type_3185\n",
      "Soil_type_3189\n",
      "Soil_type_3190\n",
      "Soil_type_3192\n",
      "Soil_type_3194\n",
      "Soil_type_3209\n",
      "Soil_type_3220\n",
      "Soil_type_3224\n",
      "Soil_type_3237\n",
      "Soil_type_3244\n",
      "Soil_type_3249\n",
      "Soil_type_3252\n",
      "Soil_type_3256\n",
      "Soil_type_3263\n",
      "Soil_type_3274\n",
      "Soil_type_3278\n",
      "Soil_type_3284\n",
      "Soil_type_3285\n",
      "Soil_type_3298\n",
      "Soil_type_3305\n",
      "Soil_type_3309\n",
      "Soil_type_3310\n",
      "Soil_type_3313\n",
      "Soil_type_3318\n",
      "Soil_type_3326\n",
      "Soil_type_3335\n",
      "Soil_type_3340\n",
      "Soil_type_3344\n",
      "Soil_type_337\n",
      "Soil_type_3371\n",
      "Soil_type_3375\n",
      "Soil_type_3377\n",
      "Soil_type_3380\n",
      "Soil_type_3381\n",
      "Soil_type_3387\n",
      "Soil_type_3390\n",
      "Soil_type_3394\n",
      "Soil_type_3396\n",
      "Soil_type_3397\n",
      "Soil_type_3398\n",
      "Soil_type_3410\n",
      "Soil_type_3421\n",
      "Soil_type_3423\n",
      "Soil_type_3429\n",
      "Soil_type_3435\n",
      "Soil_type_3437\n",
      "Soil_type_3438\n",
      "Soil_type_3445\n",
      "Soil_type_3446\n",
      "Soil_type_3453\n",
      "Soil_type_3456\n",
      "Soil_type_3460\n",
      "Soil_type_3466\n",
      "Soil_type_3467\n",
      "Soil_type_3469\n",
      "Soil_type_3472\n",
      "Soil_type_3477\n",
      "Soil_type_3478\n",
      "Soil_type_3480\n",
      "Soil_type_3500\n",
      "Soil_type_3508\n",
      "Soil_type_3522\n",
      "Soil_type_3547\n",
      "Soil_type_3549\n",
      "Soil_type_3551\n",
      "Soil_type_3554\n",
      "Soil_type_3556\n",
      "Soil_type_3568\n",
      "Soil_type_3574\n",
      "Soil_type_3585\n",
      "Soil_type_3587\n",
      "Soil_type_3589\n",
      "Soil_type_3593\n",
      "Soil_type_3604\n",
      "Soil_type_3613\n",
      "Soil_type_3627\n",
      "Soil_type_3631\n",
      "Soil_type_3633\n",
      "Soil_type_3637\n",
      "Soil_type_3638\n",
      "Soil_type_3642\n",
      "Soil_type_3648\n",
      "Soil_type_3649\n",
      "Soil_type_3650\n",
      "Soil_type_3656\n",
      "Soil_type_3660\n",
      "Soil_type_3665\n",
      "Soil_type_3674\n",
      "Soil_type_3675\n",
      "Soil_type_3676\n",
      "Soil_type_3677\n",
      "Soil_type_3680\n",
      "Soil_type_3681\n",
      "Soil_type_3683\n",
      "Soil_type_3686\n",
      "Soil_type_3699\n",
      "Soil_type_3700\n",
      "Soil_type_3707\n",
      "Soil_type_3708\n",
      "Soil_type_3710\n",
      "Soil_type_3713\n",
      "Soil_type_3714\n",
      "Soil_type_3718\n",
      "Soil_type_3734\n",
      "Soil_type_3738\n",
      "Soil_type_3763\n",
      "Soil_type_3765\n",
      "Soil_type_3769\n",
      "Soil_type_3770\n",
      "Soil_type_3771\n",
      "Soil_type_3772\n",
      "Soil_type_3780\n",
      "Soil_type_3781\n",
      "Soil_type_3782\n",
      "Soil_type_3790\n",
      "Soil_type_3791\n",
      "Soil_type_3804\n",
      "Soil_type_3814\n",
      "Soil_type_3816\n",
      "Soil_type_3821\n",
      "Soil_type_3833\n",
      "Soil_type_3841\n",
      "Soil_type_3848\n",
      "Soil_type_3852\n",
      "Soil_type_3853\n",
      "Soil_type_3860\n",
      "Soil_type_3875\n",
      "Soil_type_3878\n",
      "Soil_type_3879\n",
      "Soil_type_3881\n",
      "Soil_type_3882\n",
      "Soil_type_3884\n",
      "Soil_type_3890\n",
      "Soil_type_3897\n",
      "Soil_type_3900\n",
      "Soil_type_3913\n",
      "Soil_type_3914\n",
      "Soil_type_3916\n",
      "Soil_type_3918\n",
      "Soil_type_3927\n",
      "Soil_type_3941\n",
      "Soil_type_3947\n",
      "Soil_type_3952\n",
      "Soil_type_3955\n",
      "Soil_type_3956\n",
      "Soil_type_3957\n",
      "Soil_type_3959\n",
      "Soil_type_3960\n",
      "Soil_type_3964\n",
      "Soil_type_3965\n",
      "Soil_type_3970\n",
      "Soil_type_3973\n",
      "Soil_type_3981\n",
      "Soil_type_3983\n",
      "Soil_type_3985\n",
      "Soil_type_3991\n",
      "Soil_type_3995\n",
      "Soil_type_3999\n",
      "Soil_type_4004\n",
      "Soil_type_4008\n",
      "Soil_type_4014\n",
      "Soil_type_4016\n",
      "Soil_type_4017\n",
      "Soil_type_4018\n",
      "Soil_type_477\n",
      "Soil_type_521\n",
      "Soil_type_523\n",
      "Soil_type_704\n",
      "Soil_type_747\n",
      "Soil_type_862\n"
     ]
    }
   ],
   "source": [
    "dummy_df = pd.get_dummies(frederick)\n",
    "for col in dummy_df.columns:\n",
    "    print(col)"
   ]
  },
  {
   "cell_type": "code",
   "execution_count": 97,
   "metadata": {},
   "outputs": [
    {
     "data": {
      "text/html": "<div>\n<style scoped>\n    .dataframe tbody tr th:only-of-type {\n        vertical-align: middle;\n    }\n\n    .dataframe tbody tr th {\n        vertical-align: top;\n    }\n\n    .dataframe thead th {\n        text-align: right;\n    }\n</style>\n<table border=\"1\" class=\"dataframe\">\n  <thead>\n    <tr style=\"text-align: right;\">\n      <th></th>\n      <th>TARGET_FID</th>\n      <th>Length</th>\n      <th>Install_year</th>\n      <th>Arterial_class</th>\n      <th>Surface_width</th>\n      <th>Speed_limit</th>\n      <th>Slope</th>\n      <th>Width</th>\n      <th>Breaks_nearby_2009</th>\n      <th>Breaks_nearby_2010</th>\n      <th>...</th>\n      <th>Soil_type_988</th>\n      <th>Soil_type_989</th>\n      <th>Soil_type_999</th>\n      <th>Surface_type_</th>\n      <th>Surface_type_AC</th>\n      <th>Surface_type_AC/AC</th>\n      <th>Surface_type_AC/PCC</th>\n      <th>Surface_type_GRAVEL</th>\n      <th>Surface_type_PCC</th>\n      <th>Surface_type_ST</th>\n    </tr>\n  </thead>\n  <tbody>\n    <tr>\n      <th>0</th>\n      <td>1</td>\n      <td>314.79</td>\n      <td>1972</td>\n      <td>2.0</td>\n      <td>40.0</td>\n      <td>25.0</td>\n      <td>0.0</td>\n      <td>8.0</td>\n      <td>NaN</td>\n      <td>0</td>\n      <td>...</td>\n      <td>0</td>\n      <td>0</td>\n      <td>0</td>\n      <td>0</td>\n      <td>0</td>\n      <td>0</td>\n      <td>0</td>\n      <td>0</td>\n      <td>1</td>\n      <td>0</td>\n    </tr>\n    <tr>\n      <th>1</th>\n      <td>2</td>\n      <td>363.39</td>\n      <td>1972</td>\n      <td>0.0</td>\n      <td>46.0</td>\n      <td>20.0</td>\n      <td>4.0</td>\n      <td>8.0</td>\n      <td>NaN</td>\n      <td>0</td>\n      <td>...</td>\n      <td>0</td>\n      <td>0</td>\n      <td>0</td>\n      <td>0</td>\n      <td>1</td>\n      <td>0</td>\n      <td>0</td>\n      <td>0</td>\n      <td>0</td>\n      <td>0</td>\n    </tr>\n    <tr>\n      <th>2</th>\n      <td>3</td>\n      <td>323.51</td>\n      <td>1972</td>\n      <td>0.0</td>\n      <td>46.0</td>\n      <td>20.0</td>\n      <td>4.0</td>\n      <td>8.0</td>\n      <td>NaN</td>\n      <td>0</td>\n      <td>...</td>\n      <td>0</td>\n      <td>0</td>\n      <td>0</td>\n      <td>0</td>\n      <td>1</td>\n      <td>0</td>\n      <td>0</td>\n      <td>0</td>\n      <td>0</td>\n      <td>0</td>\n    </tr>\n    <tr>\n      <th>3</th>\n      <td>4</td>\n      <td>329.13</td>\n      <td>1928</td>\n      <td>0.0</td>\n      <td>0.0</td>\n      <td>20.0</td>\n      <td>6.0</td>\n      <td>12.0</td>\n      <td>NaN</td>\n      <td>0</td>\n      <td>...</td>\n      <td>0</td>\n      <td>0</td>\n      <td>0</td>\n      <td>0</td>\n      <td>0</td>\n      <td>0</td>\n      <td>0</td>\n      <td>0</td>\n      <td>0</td>\n      <td>1</td>\n    </tr>\n    <tr>\n      <th>4</th>\n      <td>5</td>\n      <td>273.64</td>\n      <td>1928</td>\n      <td>2.0</td>\n      <td>42.0</td>\n      <td>25.0</td>\n      <td>4.0</td>\n      <td>18.0</td>\n      <td>NaN</td>\n      <td>0</td>\n      <td>...</td>\n      <td>0</td>\n      <td>0</td>\n      <td>0</td>\n      <td>0</td>\n      <td>0</td>\n      <td>0</td>\n      <td>1</td>\n      <td>0</td>\n      <td>0</td>\n      <td>0</td>\n    </tr>\n    <tr>\n      <th>...</th>\n      <td>...</td>\n      <td>...</td>\n      <td>...</td>\n      <td>...</td>\n      <td>...</td>\n      <td>...</td>\n      <td>...</td>\n      <td>...</td>\n      <td>...</td>\n      <td>...</td>\n      <td>...</td>\n      <td>...</td>\n      <td>...</td>\n      <td>...</td>\n      <td>...</td>\n      <td>...</td>\n      <td>...</td>\n      <td>...</td>\n      <td>...</td>\n      <td>...</td>\n      <td>...</td>\n    </tr>\n    <tr>\n      <th>56365</th>\n      <td>56366</td>\n      <td>282.22</td>\n      <td>1931</td>\n      <td>3.0</td>\n      <td>24.0</td>\n      <td>25.0</td>\n      <td>9.0</td>\n      <td>16.0</td>\n      <td>NaN</td>\n      <td>0</td>\n      <td>...</td>\n      <td>0</td>\n      <td>0</td>\n      <td>0</td>\n      <td>0</td>\n      <td>1</td>\n      <td>0</td>\n      <td>0</td>\n      <td>0</td>\n      <td>0</td>\n      <td>0</td>\n    </tr>\n    <tr>\n      <th>40139</th>\n      <td>40140</td>\n      <td>149.33</td>\n      <td>1960</td>\n      <td>3.0</td>\n      <td>47.0</td>\n      <td>30.0</td>\n      <td>8.0</td>\n      <td>24.0</td>\n      <td>NaN</td>\n      <td>0</td>\n      <td>...</td>\n      <td>0</td>\n      <td>0</td>\n      <td>0</td>\n      <td>0</td>\n      <td>0</td>\n      <td>0</td>\n      <td>1</td>\n      <td>0</td>\n      <td>0</td>\n      <td>0</td>\n    </tr>\n    <tr>\n      <th>62255</th>\n      <td>62256</td>\n      <td>330.84</td>\n      <td>1922</td>\n      <td>0.0</td>\n      <td>0.0</td>\n      <td>20.0</td>\n      <td>2.0</td>\n      <td>8.0</td>\n      <td>NaN</td>\n      <td>0</td>\n      <td>...</td>\n      <td>0</td>\n      <td>0</td>\n      <td>0</td>\n      <td>0</td>\n      <td>0</td>\n      <td>0</td>\n      <td>0</td>\n      <td>0</td>\n      <td>0</td>\n      <td>1</td>\n    </tr>\n    <tr>\n      <th>54147</th>\n      <td>54148</td>\n      <td>79.90</td>\n      <td>1927</td>\n      <td>0.0</td>\n      <td>25.0</td>\n      <td>20.0</td>\n      <td>2.0</td>\n      <td>2.0</td>\n      <td>NaN</td>\n      <td>0</td>\n      <td>...</td>\n      <td>0</td>\n      <td>0</td>\n      <td>0</td>\n      <td>0</td>\n      <td>0</td>\n      <td>0</td>\n      <td>0</td>\n      <td>0</td>\n      <td>1</td>\n      <td>0</td>\n    </tr>\n    <tr>\n      <th>30715</th>\n      <td>30716</td>\n      <td>409.38</td>\n      <td>1950</td>\n      <td>0.0</td>\n      <td>24.0</td>\n      <td>20.0</td>\n      <td>9.0</td>\n      <td>8.0</td>\n      <td>NaN</td>\n      <td>0</td>\n      <td>...</td>\n      <td>0</td>\n      <td>0</td>\n      <td>0</td>\n      <td>0</td>\n      <td>0</td>\n      <td>0</td>\n      <td>0</td>\n      <td>0</td>\n      <td>0</td>\n      <td>1</td>\n    </tr>\n  </tbody>\n</table>\n<p>71320 rows × 65 columns</p>\n</div>",
      "text/plain": [
       "       TARGET_FID  Length  Install_year  Arterial_class  Surface_width  \\\n",
       "0               1  314.79          1972             2.0           40.0   \n",
       "1               2  363.39          1972             0.0           46.0   \n",
       "2               3  323.51          1972             0.0           46.0   \n",
       "3               4  329.13          1928             0.0            0.0   \n",
       "4               5  273.64          1928             2.0           42.0   \n",
       "...           ...     ...           ...             ...            ...   \n",
       "56365       56366  282.22          1931             3.0           24.0   \n",
       "40139       40140  149.33          1960             3.0           47.0   \n",
       "62255       62256  330.84          1922             0.0            0.0   \n",
       "54147       54148   79.90          1927             0.0           25.0   \n",
       "30715       30716  409.38          1950             0.0           24.0   \n",
       "\n",
       "       Speed_limit  Slope  Width  Breaks_nearby_2009  Breaks_nearby_2010  ...  \\\n",
       "0             25.0    0.0    8.0                 NaN                   0  ...   \n",
       "1             20.0    4.0    8.0                 NaN                   0  ...   \n",
       "2             20.0    4.0    8.0                 NaN                   0  ...   \n",
       "3             20.0    6.0   12.0                 NaN                   0  ...   \n",
       "4             25.0    4.0   18.0                 NaN                   0  ...   \n",
       "...            ...    ...    ...                 ...                 ...  ...   \n",
       "56365         25.0    9.0   16.0                 NaN                   0  ...   \n",
       "40139         30.0    8.0   24.0                 NaN                   0  ...   \n",
       "62255         20.0    2.0    8.0                 NaN                   0  ...   \n",
       "54147         20.0    2.0    2.0                 NaN                   0  ...   \n",
       "30715         20.0    9.0    8.0                 NaN                   0  ...   \n",
       "\n",
       "       Soil_type_988  Soil_type_989  Soil_type_999  Surface_type_   \\\n",
       "0                  0              0              0               0   \n",
       "1                  0              0              0               0   \n",
       "2                  0              0              0               0   \n",
       "3                  0              0              0               0   \n",
       "4                  0              0              0               0   \n",
       "...              ...            ...            ...             ...   \n",
       "56365              0              0              0               0   \n",
       "40139              0              0              0               0   \n",
       "62255              0              0              0               0   \n",
       "54147              0              0              0               0   \n",
       "30715              0              0              0               0   \n",
       "\n",
       "       Surface_type_AC  Surface_type_AC/AC  Surface_type_AC/PCC  \\\n",
       "0                    0                   0                    0   \n",
       "1                    1                   0                    0   \n",
       "2                    1                   0                    0   \n",
       "3                    0                   0                    0   \n",
       "4                    0                   0                    1   \n",
       "...                ...                 ...                  ...   \n",
       "56365                1                   0                    0   \n",
       "40139                0                   0                    1   \n",
       "62255                0                   0                    0   \n",
       "54147                0                   0                    0   \n",
       "30715                0                   0                    0   \n",
       "\n",
       "       Surface_type_GRAVEL  Surface_type_PCC  Surface_type_ST  \n",
       "0                        0                 1                0  \n",
       "1                        0                 0                0  \n",
       "2                        0                 0                0  \n",
       "3                        0                 0                1  \n",
       "4                        0                 0                0  \n",
       "...                    ...               ...              ...  \n",
       "56365                    0                 0                0  \n",
       "40139                    0                 0                0  \n",
       "62255                    0                 0                1  \n",
       "54147                    0                 1                0  \n",
       "30715                    0                 0                1  \n",
       "\n",
       "[71320 rows x 65 columns]"
      ]
     },
     "execution_count": 97,
     "metadata": {},
     "output_type": "execute_result"
    }
   ],
   "source": [
    "dummy_df"
   ]
  },
  {
   "cell_type": "code",
   "execution_count": 61,
   "metadata": {},
   "outputs": [],
   "source": [
    "dummy_df['Breaks_nearby_2009'] = dummy_df['Breaks_nearby_2009'].fillna(0).astype(int)"
   ]
  },
  {
   "cell_type": "code",
   "execution_count": 74,
   "metadata": {},
   "outputs": [
    {
     "data": {
      "text/plain": "array([  nan, 2020., 2019., 2018., 2017., 2016., 2015., 2014., 2013.,\n       2012., 2011., 2010., 2009., 2008., 2007., 2006., 2005., 2004.,\n       2003.])"
     },
     "execution_count": 74,
     "metadata": {},
     "output_type": "execute_result"
    }
   ],
   "source": [
    "dummy_df['Break_Yr'].unique()"
   ]
  },
  {
   "cell_type": "code",
   "execution_count": 28,
   "metadata": {},
   "outputs": [],
   "source": [
    "dummy_df['Breaks_nearby_2009'] = dummy_df['Breaks_nearby_2009'].fillna(0).astype(int)\n"
   ]
  },
  {
   "cell_type": "code",
   "execution_count": 76,
   "metadata": {},
   "outputs": [],
   "source": [
    "def get_data(df, year):\n",
    "    \"\"\"\n",
    "    Takes in df and filters depending on timeframe (start and end years).\n",
    "    Returns subset of data for training in timeframe.\n",
    "    \"\"\"\n",
    "    # want to include where there is NOT a break year (those will be our non-broken positive examples --> 'DATE' == 0) - DATE col\n",
    "\n",
    "\n",
    "    # want to include where break year is in time frame of what we want - DATE col\n",
    "    filt_df = df[(df['Break_Yr'].isnull()) | (df['Break_Yr'] == year)]\n",
    "\n",
    "    # exclude installs AFTER time frame window - MNL_INSTAL col\n",
    "    filt_df = filt_df[(filt_df['INSTALLDATE'] <= year)]\n",
    "\n",
    "    # based on time window, calculate appropriate age of pipes (select beginning year of time frame --> ex: 2009, 2010, 2011\n",
    "    #       subtract install year from 2009) - MNL_INSTAL col\n",
    "    # -- will create negative numbers\n",
    "    filt_df['AGE'] = year - filt_df['INSTALLDATE']\n",
    "\n",
    "    \n",
    "    filt_df['Nearby_breaks_1yr'] = filt_df[f\"Breaks_nearby_{year-1}\"]\n",
    "    print(filt_df[f\"Breaks_nearby_{year-1}\"].sum())\n",
    "    print(filt_df['Nearby_breaks_1yr'].sum())\n",
    "\n",
    "    filt_df['Process_year'] = year\n",
    "\n",
    "    for i in range(2003, 2021):\n",
    "        filt_df = filt_df.drop(f\"Breaks_nearby_{i}\", axis=1)\n",
    "    \n",
    "    return filt_df"
   ]
  },
  {
   "cell_type": "code",
   "execution_count": 78,
   "metadata": {},
   "outputs": [
    {
     "name": "stdout",
     "output_type": "stream",
     "text": [
      "353\n",
      "353\n"
     ]
    }
   ],
   "source": [
    "test_timeframe_df = get_data(dummy_df, 2004)"
   ]
  },
  {
   "cell_type": "code",
   "execution_count": 79,
   "metadata": {},
   "outputs": [
    {
     "data": {
      "text/plain": "0         2004\n1         2004\n2         2004\n3         2004\n4         2004\n          ... \n316939    2004\n316940    2004\n316941    2004\n316942    2004\n316943    2004\nName: Process_year, Length: 260106, dtype: int64"
     },
     "execution_count": 79,
     "metadata": {},
     "output_type": "execute_result"
    }
   ],
   "source": [
    "test_timeframe_df['Process_year']"
   ]
  },
  {
   "cell_type": "code",
   "execution_count": 80,
   "metadata": {},
   "outputs": [],
   "source": [
    "def main_function(dummy_df):\n",
    "    \"\"\"\n",
    "    Takes in dummy dataframe and runs all functions based on given year ranges.\n",
    "    Prints out year and accuracy per time range (3 years ranges)\n",
    "    \"\"\"\n",
    "    output_list = []\n",
    "\n",
    "    for process_year in range(2004, 2021): # change this depending on how many years are in dataset\n",
    "\n",
    "    \n",
    "        output_df = get_data(dummy_df, process_year)\n",
    "        #num_breaks = output_df[output_df['Target'] == 1]\n",
    "        #print(num_breaks.shape)\n",
    "        #print()\n",
    "        output_list.append(output_df)\n",
    "        #print(file_name)\n",
    "        #df = get_data(dummy_df, start_train, end_train)\n",
    "        #break\n",
    "    final_data = pd.concat(output_list)\n",
    "    final_data.to_csv('tacoma_ml_data.csv', header=True, index=False)"
   ]
  },
  {
   "cell_type": "code",
   "execution_count": 68,
   "metadata": {},
   "outputs": [
    {
     "name": "stdout",
     "output_type": "stream",
     "text": [
      "353\n",
      "353\n",
      "4692\n",
      "4692\n",
      "2432\n",
      "2432\n",
      "2309\n",
      "2309\n",
      "2079\n",
      "2079\n",
      "2102\n",
      "2102\n",
      "2143\n",
      "2143\n",
      "1710\n",
      "1710\n",
      "1990\n",
      "1990\n",
      "1790\n",
      "1790\n",
      "2030\n",
      "2030\n",
      "2605\n",
      "2605\n",
      "2547\n",
      "2547\n",
      "2980\n",
      "2980\n",
      "2191\n",
      "2191\n",
      "2176\n",
      "2176\n",
      "2525\n",
      "2525\n"
     ]
    }
   ],
   "source": [
    "main_function(dummy_df)"
   ]
  },
  {
   "cell_type": "code",
   "execution_count": 81,
   "metadata": {},
   "outputs": [],
   "source": [
    "final_data = pd.read_csv('tacoma_ml_data.csv')"
   ]
  },
  {
   "cell_type": "code",
   "execution_count": 82,
   "metadata": {},
   "outputs": [
    {
     "data": {
      "text/plain": "array([2004, 2005, 2006, 2007, 2008, 2009, 2010, 2011, 2012, 2013, 2014,\n       2015, 2016, 2017, 2018, 2019, 2020])"
     },
     "execution_count": 82,
     "metadata": {},
     "output_type": "execute_result"
    }
   ],
   "source": [
    "final_data['Process_year'].unique()"
   ]
  },
  {
   "cell_type": "code",
   "execution_count": null,
   "metadata": {},
   "outputs": [],
   "source": []
  }
 ],
 "metadata": {
  "kernelspec": {
   "display_name": "Python 3.7.7 64-bit ('anaconda3': virtualenv)",
   "name": "python377jvsc74a57bd0dca0ade3e726a953b501b15e8e990130d2b7799f14cfd9f4271676035ebe5511"
  },
  "language_info": {
   "codemirror_mode": {
    "name": "ipython",
    "version": 3
   },
   "file_extension": ".py",
   "mimetype": "text/x-python",
   "name": "python",
   "nbconvert_exporter": "python",
   "pygments_lexer": "ipython3",
   "version": "3.7.7"
  },
  "orig_nbformat": 2
 },
 "nbformat": 4,
 "nbformat_minor": 2
}